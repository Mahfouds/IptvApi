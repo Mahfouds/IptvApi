{
 "cells": [
  {
   "cell_type": "code",
   "execution_count": 1,
   "metadata": {},
   "outputs": [
    {
     "name": "stdout",
     "output_type": "stream",
     "text": [
      "Firefox driver is running.\n"
     ]
    }
   ],
   "source": [
    "from selenium import webdriver\n",
    "\n",
    "def is_firefox_driver_running(driver):\n",
    "    try:\n",
    "        # Attempt to get the current URL\n",
    "        driver.current_url\n",
    "        return True\n",
    "    except Exception:\n",
    "        # If an exception occurs, the driver is not running\n",
    "        return False\n",
    "\n",
    "# Example usage\n",
    "firefox_options = webdriver.FirefoxOptions()\n",
    "driver = webdriver.Firefox(options=firefox_options)\n",
    "\n",
    "# Check if the Firefox driver is running\n",
    "if is_firefox_driver_running(driver):\n",
    "    print(\"Firefox driver is running.\")\n",
    "else:\n",
    "    print(\"Firefox driver is not running.\")"
   ]
  },
  {
   "cell_type": "code",
   "execution_count": 4,
   "metadata": {},
   "outputs": [
    {
     "name": "stdout",
     "output_type": "stream",
     "text": [
      "Firefox is not open.\n"
     ]
    }
   ],
   "source": [
    "import psutil\n",
    "\n",
    "def is_firefox_open():\n",
    "    # Iterate through all running processes\n",
    "    for process in psutil.process_iter(['pid', 'name']):\n",
    "        try:\n",
    "            # Check if the process name contains 'firefox'\n",
    "            if 'firefox' in process.info['name'].lower():\n",
    "                return True\n",
    "        except (psutil.NoSuchProcess, psutil.AccessDenied, psutil.ZombieProcess):\n",
    "            # Handle exceptions that may occur during the iteration\n",
    "            pass\n",
    "\n",
    "    return False\n",
    "\n",
    "# Example usage\n",
    "if is_firefox_open():\n",
    "    print(\"Firefox is open.\")\n",
    "else:\n",
    "    print(\"Firefox is not open.\")\n"
   ]
  }
 ],
 "metadata": {
  "kernelspec": {
   "display_name": "Python 3",
   "language": "python",
   "name": "python3"
  },
  "language_info": {
   "codemirror_mode": {
    "name": "ipython",
    "version": 3
   },
   "file_extension": ".py",
   "mimetype": "text/x-python",
   "name": "python",
   "nbconvert_exporter": "python",
   "pygments_lexer": "ipython3",
   "version": "3.11.5"
  }
 },
 "nbformat": 4,
 "nbformat_minor": 2
}
