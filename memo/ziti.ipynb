{
 "cells": [
  {
   "cell_type": "code",
   "execution_count": 1,
   "metadata": {},
   "outputs": [],
   "source": [
    "from selenium import webdriver\n",
    "from selenium.webdriver.common.keys import Keys\n",
    "import time\n",
    "from selenium.webdriver.common.by import By\n",
    "from selenium.webdriver.support.ui import Select\n",
    "from selenium.webdriver.chrome.options import Options\n",
    "import pandas as pd\n",
    "from datetime import datetime\n",
    "import random"
   ]
  },
  {
   "cell_type": "code",
   "execution_count": 24,
   "metadata": {},
   "outputs": [],
   "source": [
    "def changePaypal(driver,username,password,merchantId,merchantMail):\n",
    "    try : \n",
    "        # URL of the website you want to open and login to\n",
    "        website_url = 'https://www.kooneo.com/'\n",
    "        # username = 'shmahfoud74@gmail.com'\n",
    "        # password = 'PPpp09@#'\n",
    "        # Navigate to the website\n",
    "        driver.get(website_url)\n",
    "        refuseCookie=driver.find_element(By.XPATH,'/html/body/div[2]/div/div[3]/button[1]')\n",
    "        refuseCookie.click()\n",
    "        time.sleep(5)\n",
    "        seConnecterBtn=driver.find_element(By.XPATH,'/html/body/div/header/div[2]/a[2]')\n",
    "        seConnecterBtn.click()\n",
    "        usernameInput=driver.find_element(By.ID,'username')\n",
    "        usernameInput.clear()\n",
    "        usernameInput.send_keys(username)\n",
    "        passwordInput=driver.find_element(By.ID,'password')\n",
    "        passwordInput.clear()\n",
    "        passwordInput.send_keys(password)\n",
    "        loginBtn=driver.find_element(By.XPATH,'/html/body/div/main/div/div/div[2]/form/div/div[4]/div[1]/button')\n",
    "        loginBtn.click()\n",
    "        time.sleep(5)\n",
    "        productsTab=driver.find_element(By.XPATH,'//*[@id=\"koo_btn_product\"]')\n",
    "        productsTab.click()\n",
    "        time.sleep(5)\n",
    "        modePaimentBtn=driver.find_element(By.XPATH,'/html/body/div[1]/div[2]/div/ul/li[9]')\n",
    "        modePaimentBtn.click()\n",
    "        time.sleep(5)\n",
    "        current_url = driver.current_url\n",
    "        print(\"Current URL:\", current_url)\n",
    "        url_parts = current_url.split(\"/\")\n",
    "        desired_part = \"/\".join(url_parts[3:5])  # Join parts 3 and 4 with \"/\"\n",
    "        print(\"Desired part:\", desired_part)\n",
    "        driver.get(\"https://www.kooneo.com/\"+desired_part+\"/paymode/edit/3\")\n",
    "        time.sleep(5)\n",
    "        # merchantId='5DC5PVVW83JJW'\n",
    "        # merchantMail='shmahfoud74@gmail.com'\n",
    "        time.sleep(5)\n",
    "        merchantIdInput=driver.find_element(By.NAME,'idmarchand')\n",
    "        merchantIdInput.clear()\n",
    "        merchantIdInput.send_keys(merchantId)\n",
    "        merchantMailInput=driver.find_element(By.NAME,'idvendeur')\n",
    "        merchantMailInput.clear()\n",
    "        merchantMailInput.send_keys(merchantMail)\n",
    "        time.sleep(5)\n",
    "        registerBtn=driver.find_element(By.CSS_SELECTOR,'#form-toolbox-btns button')\n",
    "        registerBtn.click()\n",
    "        time.sleep(5)\n",
    "        return True\n",
    "    except Exception as e:\n",
    "        print(\"An error occurred:\", str(e))\n",
    "        return False"
   ]
  },
  {
   "cell_type": "code",
   "execution_count": 25,
   "metadata": {},
   "outputs": [
    {
     "name": "stdout",
     "output_type": "stream",
     "text": [
      "Current URL: https://www.kooneo.com/s/25213/paymodes\n",
      "Desired part: s/25213\n"
     ]
    },
    {
     "data": {
      "text/plain": [
       "True"
      ]
     },
     "execution_count": 25,
     "metadata": {},
     "output_type": "execute_result"
    }
   ],
   "source": [
    "options = webdriver.FirefoxOptions()\n",
    "driver = webdriver.Firefox(options=options)\n",
    "changePaypal(driver,\"salkafandan8@gmail.com\",\"TxTwNdua\",\"U37F4UM8URC6J\",\"mathew63price@gmail.com\")"
   ]
  },
  {
   "cell_type": "code",
   "execution_count": 22,
   "metadata": {},
   "outputs": [
    {
     "name": "stdout",
     "output_type": "stream",
     "text": [
      "Current URL: https://www.kooneo.com/s/25212/paymode/edit/3\n",
      "Desired part: s/25212\n"
     ]
    }
   ],
   "source": [
    "current_url = driver.current_url\n",
    "print(\"Current URL:\", current_url)\n",
    "url_parts = current_url.split(\"/\")\n",
    "desired_part = \"/\".join(url_parts[3:5])  # Join parts 3 and 4 with \"/\"\n",
    "print(\"Desired part:\", desired_part)\n",
    "driver.get(\"https://www.kooneo.com/\"+desired_part+\"/paymode/edit/3\")"
   ]
  },
  {
   "cell_type": "code",
   "execution_count": 13,
   "metadata": {},
   "outputs": [],
   "source": [
    "managePaypalBtn=driver.find_element(By.XPATH,'/html/body/div[1]/div[2]/main/div/table/tbody/tr[1]/td[3]/div/a[1]/img')\n",
    "managePaypalBtn.click()"
   ]
  },
  {
   "cell_type": "code",
   "execution_count": 21,
   "metadata": {},
   "outputs": [],
   "source": [
    "def zity(driver,website,choice1,choice2):\n",
    "    driver.get(website)\n",
    "    btn=driver.find_element(By.XPATH,'/html/body/main/article/section/form/div[1]/div/div/div/fieldset/div/div/div['+str(choice1)+']/div/label/span[1]')\n",
    "    btn.click()\n",
    "    btn=driver.find_element(By.XPATH,'/html/body/main/article/section/form/div[1]/div/div/div/fieldset/div/div/div['+str(choice2)+']/div/label/span[1]')\n",
    "    btn.click()\n",
    "    btn=driver.find_element(By.XPATH,'/html/body/main/article/section/form/div[2]/button')\n",
    "    btn.click()"
   ]
  },
  {
   "cell_type": "code",
   "execution_count": 14,
   "metadata": {},
   "outputs": [],
   "source": [
    "def generate_random_number():\n",
    "    while True:\n",
    "        random_number = random.randint(1, 8)\n",
    "        if random_number != 5:\n",
    "            return random_number"
   ]
  },
  {
   "cell_type": "code",
   "execution_count": 22,
   "metadata": {},
   "outputs": [],
   "source": [
    "zity(driver,'https://www.surveymonkey.com/r/679DMMR',5,generate_random_number())"
   ]
  }
 ],
 "metadata": {
  "kernelspec": {
   "display_name": "Python 3",
   "language": "python",
   "name": "python3"
  },
  "language_info": {
   "codemirror_mode": {
    "name": "ipython",
    "version": 3
   },
   "file_extension": ".py",
   "mimetype": "text/x-python",
   "name": "python",
   "nbconvert_exporter": "python",
   "pygments_lexer": "ipython3",
   "version": "3.11.5"
  }
 },
 "nbformat": 4,
 "nbformat_minor": 2
}
