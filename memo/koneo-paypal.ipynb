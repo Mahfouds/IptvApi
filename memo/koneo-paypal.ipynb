{
 "cells": [
  {
   "cell_type": "code",
   "execution_count": 2,
   "metadata": {},
   "outputs": [],
   "source": [
    "from selenium import webdriver\n",
    "from selenium.webdriver.common.keys import Keys\n",
    "import time\n",
    "from selenium.webdriver.common.by import By\n",
    "from selenium.webdriver.support.ui import Select\n",
    "from selenium.webdriver.chrome.options import Options\n",
    "import pandas as pd\n",
    "from datetime import datetime"
   ]
  },
  {
   "cell_type": "code",
   "execution_count": 58,
   "metadata": {},
   "outputs": [],
   "source": [
    "options = webdriver.FirefoxOptions()\n",
    "driver = webdriver.Firefox(options=options)"
   ]
  },
  {
   "cell_type": "code",
   "execution_count": 59,
   "metadata": {},
   "outputs": [],
   "source": [
    "def changePaypal(driver,merchantId,merchantMail):\n",
    "    # URL of the website you want to open and login to\n",
    "    website_url = 'https://www.kooneo.com/'\n",
    "    username = 'shmahfoud74@gmail.com'\n",
    "    password = 'PPpp09@#'\n",
    "    # Navigate to the website\n",
    "    driver.get(website_url)\n",
    "    refuseCookie=driver.find_element(By.XPATH,'/html/body/div[2]/div/div[3]/button[1]')\n",
    "    refuseCookie.click()\n",
    "    time.sleep(5)\n",
    "    seConnecterBtn=driver.find_element(By.XPATH,'/html/body/div/header/div[2]/a[2]')\n",
    "    seConnecterBtn.click()\n",
    "    usernameInput=driver.find_element(By.ID,'username')\n",
    "    usernameInput.clear()\n",
    "    usernameInput.send_keys(username)\n",
    "    passwordInput=driver.find_element(By.ID,'password')\n",
    "    passwordInput.clear()\n",
    "    passwordInput.send_keys(password)\n",
    "    loginBtn=driver.find_element(By.XPATH,'/html/body/div/main/div/div/div[2]/form/div/div[4]/div[1]/button')\n",
    "    loginBtn.click()\n",
    "    time.sleep(5)\n",
    "    productsTab=driver.find_element(By.XPATH,'//*[@id=\"koo_btn_product\"]')\n",
    "    productsTab.click()\n",
    "    time.sleep(5)\n",
    "    modePaimentBtn=driver.find_element(By.XPATH,'/html/body/div[1]/div[2]/div/ul/li[9]')\n",
    "    modePaimentBtn.click()\n",
    "    time.sleep(5)\n",
    "    managePaypalBtn=driver.find_element(By.XPATH,'/html/body/div[1]/div[2]/main/div[2]/table/tbody/tr[1]/td[3]/div/a[1]')\n",
    "    managePaypalBtn.click()\n",
    "    time.sleep(5)\n",
    "    # merchantId='5DC5PVVW83JJW'\n",
    "    # merchantMail='shmahfoud74@gmail.com'\n",
    "    time.sleep(5)\n",
    "    merchantIdInput=driver.find_element(By.NAME,'idmarchand')\n",
    "    merchantIdInput.clear()\n",
    "    merchantIdInput.send_keys(merchantId)\n",
    "    merchantMailInput=driver.find_element(By.NAME,'idvendeur')\n",
    "    merchantMailInput.clear()\n",
    "    merchantMailInput.send_keys(merchantMail)\n",
    "    time.sleep(5)\n",
    "    registerBtn=driver.find_element(By.CSS_SELECTOR,'#form-toolbox-btns button')\n",
    "    registerBtn.click()\n",
    "    time.sleep(5)"
   ]
  },
  {
   "cell_type": "code",
   "execution_count": 57,
   "metadata": {},
   "outputs": [],
   "source": [
    "driver.quit()"
   ]
  },
  {
   "cell_type": "code",
   "execution_count": 60,
   "metadata": {},
   "outputs": [],
   "source": [
    "changePaypal(driver,'5DC5PVVW83JJW','shmahfoud74@gmail.com')"
   ]
  },
  {
   "cell_type": "code",
   "execution_count": 13,
   "metadata": {},
   "outputs": [],
   "source": [
    "# URL of the website you want to open and login to\n",
    "website_url = 'https://www.kooneo.com/'\n",
    "username = 'shmahfoud74@gmail.com'\n",
    "password = 'PPpp09@#'"
   ]
  },
  {
   "cell_type": "code",
   "execution_count": 5,
   "metadata": {},
   "outputs": [],
   "source": [
    "# Navigate to the website\n",
    "driver.get(website_url)"
   ]
  },
  {
   "cell_type": "code",
   "execution_count": 6,
   "metadata": {},
   "outputs": [],
   "source": [
    "refuseCookie=driver.find_element(By.XPATH,'/html/body/div[2]/div/div[3]/button[1]')\n",
    "refuseCookie.click()"
   ]
  },
  {
   "cell_type": "code",
   "execution_count": 7,
   "metadata": {},
   "outputs": [],
   "source": [
    "seConnecterBtn=driver.find_element(By.XPATH,'/html/body/div/header/div[2]/a[2]')\n",
    "seConnecterBtn.click()"
   ]
  },
  {
   "cell_type": "code",
   "execution_count": 14,
   "metadata": {},
   "outputs": [],
   "source": [
    "usernameInput=driver.find_element(By.ID,'username')\n",
    "usernameInput.clear()\n",
    "usernameInput.send_keys(username)\n",
    "passwordInput=driver.find_element(By.ID,'password')\n",
    "passwordInput.clear()\n",
    "passwordInput.send_keys(password)"
   ]
  },
  {
   "cell_type": "code",
   "execution_count": 15,
   "metadata": {},
   "outputs": [],
   "source": [
    "loginBtn=driver.find_element(By.XPATH,'/html/body/div/main/div/div/div[2]/form/div/div[4]/div[1]/button')\n",
    "loginBtn.click()"
   ]
  },
  {
   "cell_type": "code",
   "execution_count": 17,
   "metadata": {},
   "outputs": [],
   "source": [
    "productsTab=driver.find_element(By.XPATH,'//*[@id=\"koo_btn_product\"]')\n",
    "productsTab.click()"
   ]
  },
  {
   "cell_type": "code",
   "execution_count": 18,
   "metadata": {},
   "outputs": [],
   "source": [
    "modePaimentBtn=driver.find_element(By.XPATH,'/html/body/div[1]/div[2]/div/ul/li[9]')\n",
    "modePaimentBtn.click()"
   ]
  },
  {
   "cell_type": "code",
   "execution_count": 19,
   "metadata": {},
   "outputs": [],
   "source": [
    "managePaypalBtn=driver.find_element(By.XPATH,'/html/body/div[1]/div[2]/main/div[2]/table/tbody/tr[1]/td[3]/div/a[1]')\n",
    "managePaypalBtn.click()"
   ]
  },
  {
   "cell_type": "code",
   "execution_count": 45,
   "metadata": {},
   "outputs": [],
   "source": [
    "merchantId='5DC5PVVW83JJWff'\n",
    "merchantMail='shmahfoud74@gmail.com'"
   ]
  },
  {
   "cell_type": "code",
   "execution_count": 49,
   "metadata": {},
   "outputs": [],
   "source": [
    "merchantIdInput=driver.find_element(By.NAME,'idmarchand')\n",
    "merchantIdInput.clear()\n",
    "merchantIdInput.send_keys(merchantId)\n",
    "merchantMailInput=driver.find_element(By.NAME,'idvendeur')\n",
    "merchantMailInput.clear()\n",
    "merchantMailInput.send_keys(merchantMail)"
   ]
  },
  {
   "cell_type": "code",
   "execution_count": 56,
   "metadata": {},
   "outputs": [],
   "source": [
    "registerBtn=driver.find_element(By.CSS_SELECTOR,'#form-toolbox-btns button')\n",
    "registerBtn.click()"
   ]
  }
 ],
 "metadata": {
  "kernelspec": {
   "display_name": "Python 3",
   "language": "python",
   "name": "python3"
  },
  "language_info": {
   "codemirror_mode": {
    "name": "ipython",
    "version": 3
   },
   "file_extension": ".py",
   "mimetype": "text/x-python",
   "name": "python",
   "nbconvert_exporter": "python",
   "pygments_lexer": "ipython3",
   "version": "3.11.5"
  }
 },
 "nbformat": 4,
 "nbformat_minor": 2
}
