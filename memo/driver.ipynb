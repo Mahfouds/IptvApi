{
 "cells": [
  {
   "cell_type": "code",
   "execution_count": 2,
   "metadata": {},
   "outputs": [
    {
     "name": "stdout",
     "output_type": "stream",
     "text": [
      "Driver is running.\n"
     ]
    }
   ],
   "source": [
    "from selenium import webdriver\n",
    "\n",
    "def is_driver_running(driver):\n",
    "    try:\n",
    "        # Try to perform a simple operation on the driver, such as getting the current URL\n",
    "        driver.current_url\n",
    "        return True\n",
    "    except Exception as e:\n",
    "        # If an exception occurs, the driver is not running\n",
    "        return False\n",
    "\n",
    "# Example usage\n",
    "options = webdriver.ChromeOptions()\n",
    "driver = webdriver.Chrome(options=options)\n",
    "\n",
    "# Check if the driver is running\n",
    "if is_driver_running(driver):\n",
    "    print(\"Driver is running.\")\n",
    "else:\n",
    "    print(\"Driver is not running.\")\n"
   ]
  },
  {
   "cell_type": "code",
   "execution_count": 3,
   "metadata": {},
   "outputs": [
    {
     "name": "stdout",
     "output_type": "stream",
     "text": [
      "Firefox driver is running.\n"
     ]
    }
   ],
   "source": [
    "from selenium import webdriver\n",
    "\n",
    "def is_firefox_driver_running(driver):\n",
    "    try:\n",
    "        # Attempt to get the current URL\n",
    "        driver.current_url\n",
    "        return True\n",
    "    except Exception:\n",
    "        # If an exception occurs, the driver is not running\n",
    "        return False\n",
    "\n",
    "# Example usage\n",
    "firefox_options = webdriver.FirefoxOptions()\n",
    "driver = webdriver.Firefox(options=firefox_options)\n",
    "\n",
    "# Check if the Firefox driver is running\n",
    "if is_firefox_driver_running(driver):\n",
    "    print(\"Firefox driver is running.\")\n",
    "else:\n",
    "    print(\"Firefox driver is not running.\")\n"
   ]
  }
 ],
 "metadata": {
  "kernelspec": {
   "display_name": "Python 3",
   "language": "python",
   "name": "python3"
  },
  "language_info": {
   "codemirror_mode": {
    "name": "ipython",
    "version": 3
   },
   "file_extension": ".py",
   "mimetype": "text/x-python",
   "name": "python",
   "nbconvert_exporter": "python",
   "pygments_lexer": "ipython3",
   "version": "3.11.5"
  }
 },
 "nbformat": 4,
 "nbformat_minor": 2
}
