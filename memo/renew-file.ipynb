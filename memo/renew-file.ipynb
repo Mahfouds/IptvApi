{
 "cells": [
  {
   "cell_type": "code",
   "execution_count": 27,
   "metadata": {},
   "outputs": [],
   "source": [
    "from selenium import webdriver\n",
    "from selenium.webdriver.common.keys import Keys\n",
    "import time\n",
    "from selenium.webdriver.common.by import By\n",
    "from selenium.webdriver.support.ui import Select\n",
    "from selenium.webdriver.chrome.options import Options\n",
    "import pandas as pd\n",
    "from datetime import datetime"
   ]
  },
  {
   "cell_type": "code",
   "execution_count": 28,
   "metadata": {},
   "outputs": [],
   "source": [
    "chrome_options = Options()\n",
    "driver = webdriver.Chrome(options=chrome_options)"
   ]
  },
  {
   "cell_type": "code",
   "execution_count": 18,
   "metadata": {},
   "outputs": [],
   "source": [
    "options = webdriver.FirefoxOptions()\n",
    "driver = webdriver.Firefox(options=options)"
   ]
  },
  {
   "cell_type": "code",
   "execution_count": 29,
   "metadata": {},
   "outputs": [],
   "source": [
    "# URL of the website you want to open and login to\n",
    "website_url = 'http://ky-iptv.com/HckqYJZU/login?referrer=logout'\n",
    "username = 'kemoiptv'\n",
    "password = '00112233'\n",
    "# Initialize the webdriver for Firefox\n",
    "#driver = webdriver.Chrome()"
   ]
  },
  {
   "cell_type": "code",
   "execution_count": 3,
   "metadata": {},
   "outputs": [],
   "source": [
    "# Navigate to the website\n",
    "driver.get(website_url)"
   ]
  },
  {
   "cell_type": "code",
   "execution_count": 4,
   "metadata": {},
   "outputs": [],
   "source": [
    "seconnecter=driver.find_element(By.XPATH,'//*[@id=\"buttons\"]/ytd-button-renderer/yt-button-shape/a/yt-touch-feedback-shape/div/div[2]')\n",
    "seconnecter.click()"
   ]
  },
  {
   "cell_type": "code",
   "execution_count": 18,
   "metadata": {},
   "outputs": [],
   "source": [
    "from selenium import webdriver\n",
    "from selenium_stealth import stealth\n",
    "\n",
    "options = webdriver.ChromeOptions()\n",
    "options.add_argument(\"user-agent=Mozilla/5.0 (Windows NT 10.0; Win64; x64) AppleWebKit/537.36 (KHTML, like Gecko) Chrome/90.0.4430.212 Safari/537.36\")\n",
    "options.add_experimental_option(\"excludeSwitches\", [\"enable-automation\"])\n",
    "options.add_experimental_option('useAutomationExtension', False)\n",
    "options.add_argument('--disable-blink-features=AutomationControlled')\n",
    "options.add_experimental_option(\"excludeSwitches\", [\"enable-automation\"])\n",
    "options.add_experimental_option('useAutomationExtension', False)\n",
    "options.add_argument('--disable-blink-features=AutomationControlled')\n",
    "driver = webdriver.Chrome(options=options)\n",
    "stealth(driver,\n",
    "    languages=[\"en-US\", \"en\"],\n",
    "    vendor=\"Google Inc.\",\n",
    "    platform=\"Win32\",\n",
    "    webgl_vendor=\"Intel Inc.\",\n",
    "    renderer=\"Intel Iris OpenGL Engine\",\n",
    "    fix_hairline=True,\n",
    "    )\n",
    "driver.get(\"https://accounts.google.com/v3/signin/identifier?continue=https%3A%2F%2Fmail.google.com%2Fmail%2F&emr=1&ltmpl=default&ltmplcache=2&osid=1&passive=true&rm=false&scc=1&service=mail&ss=1&ifkv=ATuJsjyLseCDTgaT4LgkHYAJcCTauJTYefeRluCYCJaZ9iOIdusatqEUH-sJXC64hxX51tlvuBQwzA&theme=glif&flowName=GlifWebSignIn&flowEntry=ServiceLogin\")"
   ]
  },
  {
   "cell_type": "code",
   "execution_count": 26,
   "metadata": {},
   "outputs": [
    {
     "ename": "TypeError",
     "evalue": "WebDriver.__init__() got an unexpected keyword argument 'executable_path'",
     "output_type": "error",
     "traceback": [
      "\u001b[1;31m---------------------------------------------------------------------------\u001b[0m",
      "\u001b[1;31mTypeError\u001b[0m                                 Traceback (most recent call last)",
      "Cell \u001b[1;32mIn[26], line 4\u001b[0m\n\u001b[0;32m      1\u001b[0m \u001b[38;5;28;01mfrom\u001b[39;00m \u001b[38;5;21;01mselenium\u001b[39;00m\u001b[38;5;21;01m.\u001b[39;00m\u001b[38;5;21;01mwebdriver\u001b[39;00m\u001b[38;5;21;01m.\u001b[39;00m\u001b[38;5;21;01mfirefox\u001b[39;00m\u001b[38;5;21;01m.\u001b[39;00m\u001b[38;5;21;01moptions\u001b[39;00m \u001b[38;5;28;01mimport\u001b[39;00m Options\n\u001b[0;32m      3\u001b[0m options \u001b[38;5;241m=\u001b[39m Options()\n\u001b[1;32m----> 4\u001b[0m browser \u001b[38;5;241m=\u001b[39m \u001b[43mwebdriver\u001b[49m\u001b[38;5;241;43m.\u001b[39;49m\u001b[43mFirefox\u001b[49m\u001b[43m(\u001b[49m\u001b[43moptions\u001b[49m\u001b[38;5;241;43m=\u001b[39;49m\u001b[43moptions\u001b[49m\u001b[43m,\u001b[49m\u001b[43m \u001b[49m\u001b[43mexecutable_path\u001b[49m\u001b[38;5;241;43m=\u001b[39;49m\u001b[38;5;124;43mr\u001b[39;49m\u001b[38;5;124;43m'\u001b[39;49m\u001b[38;5;124;43mC:/Users/admin/Documents/geckodriver.exe\u001b[39;49m\u001b[38;5;124;43m'\u001b[39;49m\u001b[43m)\u001b[49m\n",
      "\u001b[1;31mTypeError\u001b[0m: WebDriver.__init__() got an unexpected keyword argument 'executable_path'"
     ]
    }
   ],
   "source": [
    "from selenium.webdriver.firefox.options import Options\n",
    "\n",
    "options = Options()\n",
    "browser = webdriver.Firefox(options=options, executable_path=r'C:/Users/admin/Documents/geckodriver.exe')"
   ]
  },
  {
   "cell_type": "code",
   "execution_count": null,
   "metadata": {},
   "outputs": [],
   "source": [
    "from selenium import webdriver\n",
    "from time import sleep\n",
    "\n",
    "from "
   ]
  },
  {
   "cell_type": "code",
   "execution_count": null,
   "metadata": {},
   "outputs": [],
   "source": [
    "import undetected_chromedriver as uc\n",
    "from selenium import webdriver\n",
    "\n",
    "options = uc.ChromeOptions()\n",
    "options.add_argument(\"--ignore-certificate-error\")\n",
    "options.add_argument(\"--ignore-ssl-errors\")\n",
    "# e.g. Chrome path in Mac =/Users/x/Library/xx/Chrome/Default/\n",
    "options.add_argument( \"--user-data-dir=<Your chrome profile>\")\n",
    "driver = uc.Chrome(options=options)\n",
    "url='https://accounts.google.com/servicelogin'\n",
    "driver.get(url)"
   ]
  },
  {
   "cell_type": "code",
   "execution_count": 7,
   "metadata": {},
   "outputs": [],
   "source": [
    "connect =driver.find_element(By.XPATH,'//*[@id=\"gb\"]/div/div[2]/a')\n",
    "connect.click()"
   ]
  },
  {
   "cell_type": "code",
   "execution_count": 8,
   "metadata": {},
   "outputs": [],
   "source": [
    "email=driver.find_element(By.XPATH,'//*[@id=\"identifierId\"]')\n",
    "email.send_keys('shmahfoud74@gmail.com')"
   ]
  },
  {
   "cell_type": "code",
   "execution_count": 9,
   "metadata": {},
   "outputs": [],
   "source": [
    "connect =driver.find_element(By.XPATH,'//*[@id=\"identifierNext\"]/div/button')\n",
    "connect.click()"
   ]
  },
  {
   "cell_type": "code",
   "execution_count": 31,
   "metadata": {},
   "outputs": [],
   "source": [
    "# Locate the username and password input fields and submit button by their HTML attributes\n",
    "username_field = driver.find_element(By.ID,'username')  # Replace with the actual ID of the username field\n",
    "password_field = driver.find_element(By.ID,'password')  # Replace with the actual ID of the password field\n",
    "login_button = driver.find_element(By.ID,'login_button')  # Locate the login button by its type\n",
    "\n",
    "# Enter your username and password\n",
    "username_field.send_keys(username)\n",
    "password_field.send_keys(password)"
   ]
  },
  {
   "cell_type": "code",
   "execution_count": 37,
   "metadata": {},
   "outputs": [
    {
     "data": {
      "text/plain": [
       "'salam_cava_aji_daba'"
      ]
     },
     "execution_count": 37,
     "metadata": {},
     "output_type": "execute_result"
    }
   ],
   "source": [
    "plan=\"salam cava aji daba\"\n",
    "formatedPlan = plan.replace(\" \", \"_\")\n",
    "formatedPlan"
   ]
  },
  {
   "cell_type": "code",
   "execution_count": 32,
   "metadata": {},
   "outputs": [],
   "source": [
    "\n",
    "\n",
    "\n",
    "\n",
    "# Perform the login action (click the login button)\n",
    "login_button.click()"
   ]
  },
  {
   "cell_type": "code",
   "execution_count": 36,
   "metadata": {},
   "outputs": [],
   "source": [
    "username_field = driver.find_element(By.ID,'username')\n",
    "username_field.send_keys(\"Mmahfoud\") "
   ]
  },
  {
   "cell_type": "code",
   "execution_count": 25,
   "metadata": {},
   "outputs": [],
   "source": [
    "driver.get(\"http://ky-iptv.com/HckqYJZU/lines\")"
   ]
  },
  {
   "cell_type": "code",
   "execution_count": 20,
   "metadata": {},
   "outputs": [],
   "source": [
    "def select_option_by_text(driver, select_id, option_text):\n",
    "    try:\n",
    "        # Locate the <select> element\n",
    "        select_element = driver.find_element(By.XPATH, '//*[@id=\"package\"]')\n",
    "        option_text=str(option_text).lower()\n",
    "        print(\"lower plan is \"+option_text)\n",
    "        # Execute JavaScript to select the option by text\n",
    "        # Execute JavaScript to select the option by text\n",
    "        bools = driver.execute_script(f'''\n",
    "            var select = arguments[0];\n",
    "            var optionText = \"{option_text}\".toLowerCase();\n",
    "            var bools = false;\n",
    "\n",
    "            for (var i = 0; i < select.options.length; i++) {{\n",
    "                if (select.options[i].text.toLowerCase().includes(optionText)) {{\n",
    "                    select.selectedIndex = i;\n",
    "                    select.dispatchEvent(new Event('change'));\n",
    "                    bools = true;\n",
    "                    return bools;\n",
    "                }}\n",
    "            }}\n",
    "            return bools;\n",
    "        ''', select_element)\n",
    "\n",
    "        return bools\n",
    "    except Exception as e:\n",
    "        return False"
   ]
  },
  {
   "cell_type": "code",
   "execution_count": 21,
   "metadata": {},
   "outputs": [
    {
     "name": "stdout",
     "output_type": "stream",
     "text": [
      "lower plan is 12 months + 5 connections (without adults)\n"
     ]
    },
    {
     "data": {
      "text/plain": [
       "True"
      ]
     },
     "execution_count": 21,
     "metadata": {},
     "output_type": "execute_result"
    }
   ],
   "source": [
    "select_option_by_text(driver,'package',\"12 Months + 5 Connections (Without Adults)\")"
   ]
  },
  {
   "cell_type": "code",
   "execution_count": 42,
   "metadata": {},
   "outputs": [
    {
     "data": {
      "text/plain": [
       "''"
      ]
     },
     "execution_count": 42,
     "metadata": {},
     "output_type": "execute_result"
    }
   ],
   "source": [
    "input_element = driver.find_element(By.ID, \"username\")\n",
    "input_element.text"
   ]
  },
  {
   "cell_type": "code",
   "execution_count": null,
   "metadata": {},
   "outputs": [],
   "source": []
  },
  {
   "cell_type": "code",
   "execution_count": 12,
   "metadata": {},
   "outputs": [],
   "source": [
    "from selenium.webdriver.support.ui import WebDriverWait\n",
    "from selenium.webdriver.support import expected_conditions as EC"
   ]
  },
  {
   "cell_type": "code",
   "execution_count": 14,
   "metadata": {},
   "outputs": [],
   "source": [
    "# Replace 'your_username' and 'your_password' with the actual values\n",
    "target_username = '7FzNS7ycFp'\n",
    "target_password = 'Eh9crMYfPM'\n",
    "\n",
    "# Assuming 'driver' is your WebDriver instance\n",
    "# You should replace the XPath with the correct one based on your HTML structure\n",
    "# This XPath selects the button that has an 'onclick' attribute containing the target username and password\n",
    "download_button_xpath = f\"//button[contains(@onclick, 'download') and contains(@onclick, '{target_username}') and contains(@onclick, '{target_password}')]\"\n",
    "# driver.find_element(By.CSS_SELECTOR, \"[onclick*=\\\"download('\"+target_username+\"', '\"+target_password+\"');\\\"]\")\n",
    "# Locate the button based on the XPath\n",
    "download_button = driver.find_element(By.XPATH, download_button_xpath)\n",
    "\n",
    "# Click the button\n",
    "download_button.click()"
   ]
  },
  {
   "cell_type": "code",
   "execution_count": 14,
   "metadata": {},
   "outputs": [],
   "source": [
    "# Find the input element by id\n",
    "input_element = driver.find_element(By.ID, \"user_search\")\n",
    "\n",
    "# Clear the existing value\n",
    "input_element.clear()\n",
    "# Input the value \"GZdDjqPrxb\"\n",
    "input_element.send_keys(\"CEEYugzvpc\") #GZdDjqPrxb is the true one\n",
    "\n",
    "# Optionally, you can press the Tab key to move to the next element\n",
    "input_element.send_keys(Keys.TAB)"
   ]
  },
  {
   "cell_type": "code",
   "execution_count": 8,
   "metadata": {},
   "outputs": [],
   "source": [
    "from bs4 import BeautifulSoup\n",
    "from datetime import datetime"
   ]
  },
  {
   "cell_type": "code",
   "execution_count": 9,
   "metadata": {},
   "outputs": [
    {
     "ename": "ValueError",
     "evalue": "not enough values to unpack (expected 2, got 1)",
     "output_type": "error",
     "traceback": [
      "\u001b[1;31m---------------------------------------------------------------------------\u001b[0m",
      "\u001b[1;31mValueError\u001b[0m                                Traceback (most recent call last)",
      "Cell \u001b[1;32mIn[9], line 9\u001b[0m\n\u001b[0;32m      6\u001b[0m expired_span \u001b[38;5;241m=\u001b[39m soup\u001b[38;5;241m.\u001b[39mfind(\u001b[38;5;124m'\u001b[39m\u001b[38;5;124mspan\u001b[39m\u001b[38;5;124m'\u001b[39m, class_\u001b[38;5;241m=\u001b[39m\u001b[38;5;124m'\u001b[39m\u001b[38;5;124mexpired\u001b[39m\u001b[38;5;124m'\u001b[39m)\n\u001b[0;32m      8\u001b[0m \u001b[38;5;66;03m# Extract the date and time\u001b[39;00m\n\u001b[1;32m----> 9\u001b[0m date_str, time_str \u001b[38;5;241m=\u001b[39m expired_span\u001b[38;5;241m.\u001b[39mget_text()\u001b[38;5;241m.\u001b[39mstrip()\u001b[38;5;241m.\u001b[39msplit(\u001b[38;5;124m'\u001b[39m\u001b[38;5;124m<br><small>\u001b[39m\u001b[38;5;124m'\u001b[39m)\n\u001b[0;32m     11\u001b[0m \u001b[38;5;66;03m# Format the date and time\u001b[39;00m\n\u001b[0;32m     12\u001b[0m date_object \u001b[38;5;241m=\u001b[39m datetime\u001b[38;5;241m.\u001b[39mstrptime(date_str, \u001b[38;5;124m'\u001b[39m\u001b[38;5;124m%\u001b[39m\u001b[38;5;124mY-\u001b[39m\u001b[38;5;124m%\u001b[39m\u001b[38;5;124mm-\u001b[39m\u001b[38;5;132;01m%d\u001b[39;00m\u001b[38;5;124m'\u001b[39m)\n",
      "\u001b[1;31mValueError\u001b[0m: not enough values to unpack (expected 2, got 1)"
     ]
    }
   ],
   "source": [
    "# Extract the HTML content from the page\n",
    "html_content = driver.page_source\n",
    "soup = BeautifulSoup(html_content, 'html.parser')\n",
    "\n",
    "# Find the span element with class 'expired'\n",
    "expired_span = soup.find('span', class_='expired')\n",
    "\n",
    "# Extract the date and time\n",
    "date_str, time_str = expired_span.get_text().strip().split('<br><small>')\n",
    "\n",
    "# Format the date and time\n",
    "date_object = datetime.strptime(date_str, '%Y-%m-%d')\n",
    "time_object = datetime.strptime(time_str, '%H:%M:%S').time()\n",
    "\n",
    "# Print the results\n",
    "print('Date:', date_object.date())\n",
    "print('Time:', time_object)"
   ]
  },
  {
   "cell_type": "code",
   "execution_count": 10,
   "metadata": {},
   "outputs": [],
   "source": [
    "# Locate the last <tr> element within the <tbody> of the <table>\n",
    "last_tr = driver.find_element(By.XPATH, \"//table/tbody/tr[1]\")\n",
    "# Check if the last <tr> contains the empty data message\n",
    "if last_tr.text.strip() == \"No data available in table\":\n",
    "    print(\"No data available in table\")\n",
    "# Locate all <td> elements within the last <tr>"
   ]
  },
  {
   "cell_type": "code",
   "execution_count": 15,
   "metadata": {},
   "outputs": [
    {
     "name": "stdout",
     "output_type": "stream",
     "text": [
      "id: 1529461 username : CEEYugzvpc and  password : Ep5EWv7JSc and full date is 2024-04-28\n",
      "16:13:12\n"
     ]
    }
   ],
   "source": [
    "# Locate the last <tr> element within the <tbody> of the <table>\n",
    "last_tr = driver.find_element(By.XPATH, \"//table/tbody/tr[1]\")\n",
    "# Locate the first <td> element within the last <tr>\n",
    "id = last_tr.find_element(By.XPATH, \".//td[1]\")\n",
    "username = last_tr.find_element(By.XPATH, \".//td[2]\")\n",
    "password = last_tr.find_element(By.XPATH, \".//td[3]\")\n",
    "expiredDate=last_tr.find_element(By.XPATH, \".//td[10]\")\n",
    "\n",
    "print(f\"id: {id.text} username : {username.text} and  password : {password.text} and full date is {expiredDate.text}\")"
   ]
  },
  {
   "cell_type": "code",
   "execution_count": 54,
   "metadata": {},
   "outputs": [],
   "source": [
    "def searchClient(driver,username):\n",
    "    # Find the input element by id\n",
    "    input_element = driver.find_element(By.ID, \"user_search\")\n",
    "\n",
    "    # Clear the existing value\n",
    "    input_element.clear()\n",
    "    # Input the value \"GZdDjqPrxb\"\n",
    "    input_element.send_keys(username) #GZdDjqPrxb is the true one\n",
    "\n",
    "    # Optionally, you can press the Tab key to move to the next element\n",
    "    input_element.send_keys(Keys.TAB)\n",
    "    time.sleep(8)\n",
    "    # Locate the last <tr> element within the <tbody> of the <table>\n",
    "    last_tr = driver.find_element(By.XPATH, \"//table/tbody/tr[1]\")\n",
    "    # Locate the first <td> element within the last <tr>\n",
    "    # id = last_tr.find_element(By.XPATH, \".//td[1]\")\n",
    "    # username = last_tr.find_element(By.XPATH, \".//td[2]\")\n",
    "    # password = last_tr.find_element(By.XPATH, \".//td[3]\")\n",
    "    expiredDate=last_tr.find_element(By.XPATH, \".//td[10]\")\n",
    "    print(f\"the expired date is {expiredDate.text}\")\n",
    "    expiredDatetext=expiredDate.text\n",
    "    return expiredDatetext\n",
    "\n",
    "    #print(f\"id: {id.text} username : {username.text} and  password : {password.text} and full date is {expiredDate.text}\")"
   ]
  },
  {
   "cell_type": "code",
   "execution_count": 38,
   "metadata": {},
   "outputs": [],
   "source": [
    "import openpyxl"
   ]
  },
  {
   "cell_type": "code",
   "execution_count": 62,
   "metadata": {},
   "outputs": [],
   "source": [
    "import openpyxl\n",
    "\n",
    "def update_excel_with_expiration_dates(driver,input_file, output_file):\n",
    "    # Load the Excel workbook\n",
    "    workbook = openpyxl.load_workbook(input_file)\n",
    "\n",
    "    # Assuming the sheet name is \"test\"\n",
    "    sheet = workbook['test']\n",
    "\n",
    "    # Assuming usernames are in the first column (Column A)\n",
    "    usernames_column = sheet['A']\n",
    "    expiration_date = None\n",
    "\n",
    "    for i in range(2, len(usernames_column) + 1):  # Assuming header is in the first row\n",
    "        username = usernames_column[i - 1].value\n",
    "        \n",
    "        if not username==None:\n",
    "            input_element = driver.find_element(By.ID, \"user_search\")\n",
    "\n",
    "            # Clear the existing value\n",
    "            input_element.clear()\n",
    "            # Input the value \"GZdDjqPrxb\"\n",
    "            input_element.send_keys(username) #GZdDjqPrxb is the true one\n",
    "\n",
    "            # Optionally, you can press the Tab key to move to the next element\n",
    "            input_element.send_keys(Keys.TAB)\n",
    "            time.sleep(8)\n",
    "            # Locate the last <tr> element within the <tbody> of the <table>\n",
    "            last_tr = driver.find_element(By.XPATH, \"//table/tbody/tr[1]\")\n",
    "            # Locate the first <td> element within the last <tr>\n",
    "            # id = last_tr.find_element(By.XPATH, \".//td[1]\")\n",
    "            # username = last_tr.find_element(By.XPATH, \".//td[2]\")\n",
    "            # password = last_tr.find_element(By.XPATH, \".//td[3]\")\n",
    "            expiredDate=last_tr.find_element(By.XPATH, \".//td[10]\")\n",
    "            #print(f\"the expired date is {expiredDate.text}\")\n",
    "            # expiredDatetext=expiredDate.text\n",
    "            # expiration_date = searchClient(driver,username)\n",
    "            print(f\"username is {username} and expired date is {str(expiredDate.text)}\")\n",
    "\n",
    "\n",
    "        # Update the Excel file with the expiration date\n",
    "        sheet.cell(row=i, column=2, value=str(expiredDate.text))  # Assuming you want to store the expiration date in the second column\n",
    "\n",
    "    # Save the updated workbook\n",
    "    workbook.save(output_file)\n"
   ]
  },
  {
   "cell_type": "code",
   "execution_count": 63,
   "metadata": {},
   "outputs": [
    {
     "name": "stdout",
     "output_type": "stream",
     "text": [
      "username is GarngTSByV and expired date is 2024-07-14\n",
      "23:46:32\n",
      "username is WBHdcuPHjW and expired date is 2024-07-14\n",
      "23:46:32\n",
      "username is PkA8Wg7fDY and expired date is 2024-01-11\n",
      "20:32:03\n"
     ]
    },
    {
     "ename": "KeyboardInterrupt",
     "evalue": "",
     "output_type": "error",
     "traceback": [
      "\u001b[1;31m---------------------------------------------------------------------------\u001b[0m",
      "\u001b[1;31mKeyboardInterrupt\u001b[0m                         Traceback (most recent call last)",
      "Cell \u001b[1;32mIn[63], line 1\u001b[0m\n\u001b[1;32m----> 1\u001b[0m \u001b[43mupdate_excel_with_expiration_dates\u001b[49m\u001b[43m(\u001b[49m\u001b[43mdriver\u001b[49m\u001b[43m,\u001b[49m\u001b[38;5;124;43m'\u001b[39;49m\u001b[38;5;124;43m../files/MULTIPLE CONNECTIONS TEST.xlsx\u001b[39;49m\u001b[38;5;124;43m'\u001b[39;49m\u001b[43m,\u001b[49m\u001b[43m \u001b[49m\u001b[38;5;124;43m'\u001b[39;49m\u001b[38;5;124;43m../files/MULTIPLE CONNECTIONS TEST.xlsx\u001b[39;49m\u001b[38;5;124;43m'\u001b[39;49m\u001b[43m)\u001b[49m\n",
      "Cell \u001b[1;32mIn[62], line 27\u001b[0m, in \u001b[0;36mupdate_excel_with_expiration_dates\u001b[1;34m(driver, input_file, output_file)\u001b[0m\n\u001b[0;32m     25\u001b[0m \u001b[38;5;66;03m# Optionally, you can press the Tab key to move to the next element\u001b[39;00m\n\u001b[0;32m     26\u001b[0m input_element\u001b[38;5;241m.\u001b[39msend_keys(Keys\u001b[38;5;241m.\u001b[39mTAB)\n\u001b[1;32m---> 27\u001b[0m \u001b[43mtime\u001b[49m\u001b[38;5;241;43m.\u001b[39;49m\u001b[43msleep\u001b[49m\u001b[43m(\u001b[49m\u001b[38;5;241;43m8\u001b[39;49m\u001b[43m)\u001b[49m\n\u001b[0;32m     28\u001b[0m \u001b[38;5;66;03m# Locate the last <tr> element within the <tbody> of the <table>\u001b[39;00m\n\u001b[0;32m     29\u001b[0m last_tr \u001b[38;5;241m=\u001b[39m driver\u001b[38;5;241m.\u001b[39mfind_element(By\u001b[38;5;241m.\u001b[39mXPATH, \u001b[38;5;124m\"\u001b[39m\u001b[38;5;124m//table/tbody/tr[1]\u001b[39m\u001b[38;5;124m\"\u001b[39m)\n",
      "\u001b[1;31mKeyboardInterrupt\u001b[0m: "
     ]
    }
   ],
   "source": [
    "\n",
    "update_excel_with_expiration_dates(driver,'../files/MULTIPLE CONNECTIONS TEST.xlsx', '../files/MULTIPLE CONNECTIONS TEST.xlsx')"
   ]
  },
  {
   "cell_type": "code",
   "execution_count": 23,
   "metadata": {},
   "outputs": [],
   "source": [
    "def process_username(username):\n",
    "    print(f\"the username isss {username}\")\n",
    "    # Replace this with your specific treatment logic\n",
    "    if username is not None:\n",
    "                input_element = driver.find_element(By.ID, \"user_search\")\n",
    "\n",
    "                # Clear the existing value\n",
    "                input_element.clear()\n",
    "                # Input the value \"GZdDjqPrxb\"\n",
    "                input_element.send_keys(username) #GZdDjqPrxb is the true one\n",
    "\n",
    "                # Optionally, you can press the Tab key to move to the next element\n",
    "                input_element.send_keys(Keys.TAB)\n",
    "                time.sleep(8)\n",
    "                # Locate the last <tr> element within the <tbody> of the <table>\n",
    "                last_tr = driver.find_element(By.XPATH, \"//table/tbody/tr[1]\")\n",
    "                # Locate the first <td> element within the last <tr>\n",
    "                # id = last_tr.find_element(By.XPATH, \".//td[1]\")\n",
    "                # username = last_tr.find_element(By.XPATH, \".//td[2]\")\n",
    "                # password = last_tr.find_element(By.XPATH, \".//td[3]\")\n",
    "                expiredDate=last_tr.find_element(By.XPATH, \".//td[10]\")\n",
    "                #print(f\"the expired date is {expiredDate.text}\")\n",
    "                # expiredDatetext=expiredDate.text\n",
    "                # expiration_date = searchClient(driver,username)\n",
    "                try:\n",
    "                        parsed_date = datetime.strptime(str(expiredDate.text), \"%Y-%m-%d\\n%H:%M:%S\")\n",
    "                        formatted_date = parsed_date.strftime(\"%m/%d/%Y %H:%M:%S\")\n",
    "                        print(f\"Username is {username} and formatted expired date is {formatted_date}\")\n",
    "                        return formatted_date\n",
    "                except ValueError as e:\n",
    "                        print(f\"Error parsing date for username {username}: {e}\")\n",
    "                        return None\n",
    "    else:\n",
    "         return None\n",
    "\n"
   ]
  },
  {
   "cell_type": "code",
   "execution_count": 24,
   "metadata": {},
   "outputs": [],
   "source": [
    "def assign_values_to_usernames(df):\n",
    "    # Apply the custom treatment function to each username\n",
    "    for index, row in df[df['Expired Date'].eq('')].iterrows():\n",
    "        username = row['Username']\n",
    "        if pd.isna(username):\n",
    "            expiredDate=None\n",
    "        else:\n",
    "            expiredDate = process_username(username)\n",
    "        print(f\"The processed username for {username} is:{expiredDate}\")\n",
    "        \n",
    "        # Update the 'Expired Date' column with the processed value\n",
    "        df.at[index, 'Expired Date'] = expiredDate\n"
   ]
  },
  {
   "cell_type": "code",
   "execution_count": null,
   "metadata": {},
   "outputs": [],
   "source": [
    "def assign_values_to_usernamesss(df,input_file, output_file):\n",
    "    # Read the CSV file into a pandas DataFrame\n",
    "\n",
    "    # Assuming the first column is named 'username'\n",
    "    usernames = df['Username']\n",
    "    print(f\"the df username is : {usernames}\")\n",
    "    \n",
    "    # Apply the custom treatment function to each username\n",
    "    values = [process_username(username) for username in usernames]\n",
    "\n",
    "    # Create a new column 'value' in the DataFrame and populate it with the assigned values\n",
    "    # Create a new DataFrame with usernames and formatted dates\n",
    "    new_df = pd.DataFrame({'username': usernames, 'expired date': values})\n",
    "\n",
    "    # Merge the new DataFrame with the original DataFrame based on the 'username' column\n",
    "    df = pd.merge(df, new_df, on='username', how='left')\n",
    "    # Write the updated DataFrame to a new CSV file\n",
    "    df.to_csv(output_file, index=False)"
   ]
  },
  {
   "cell_type": "code",
   "execution_count": 25,
   "metadata": {},
   "outputs": [],
   "source": [
    "# Example usage:\n",
    "input_file_path = '../files/file.csv'\n",
    "output=\"../files/output.csv\""
   ]
  },
  {
   "cell_type": "code",
   "execution_count": 26,
   "metadata": {},
   "outputs": [
    {
     "data": {
      "text/html": [
       "<div>\n",
       "<style scoped>\n",
       "    .dataframe tbody tr th:only-of-type {\n",
       "        vertical-align: middle;\n",
       "    }\n",
       "\n",
       "    .dataframe tbody tr th {\n",
       "        vertical-align: top;\n",
       "    }\n",
       "\n",
       "    .dataframe thead th {\n",
       "        text-align: right;\n",
       "    }\n",
       "</style>\n",
       "<table border=\"1\" class=\"dataframe\">\n",
       "  <thead>\n",
       "    <tr style=\"text-align: right;\">\n",
       "      <th></th>\n",
       "      <th>Username</th>\n",
       "      <th>Expired Date</th>\n",
       "    </tr>\n",
       "  </thead>\n",
       "  <tbody>\n",
       "    <tr>\n",
       "      <th>0</th>\n",
       "      <td>9f46KtgDF2</td>\n",
       "      <td></td>\n",
       "    </tr>\n",
       "  </tbody>\n",
       "</table>\n",
       "</div>"
      ],
      "text/plain": [
       "     Username Expired Date\n",
       "0  9f46KtgDF2             "
      ]
     },
     "execution_count": 26,
     "metadata": {},
     "output_type": "execute_result"
    }
   ],
   "source": [
    "df = pd.read_csv(input_file_path,sep=';')\n",
    "df['Expired Date'] = ''\n",
    "df_subset=df.head()\n",
    "df_subset"
   ]
  },
  {
   "cell_type": "code",
   "execution_count": 27,
   "metadata": {},
   "outputs": [
    {
     "name": "stdout",
     "output_type": "stream",
     "text": [
      "the username isss 9f46KtgDF2\n",
      "Username is 9f46KtgDF2 and formatted expired date is 05/01/2024 10:10:44\n",
      "The processed username for 9f46KtgDF2 is:05/01/2024 10:10:44\n"
     ]
    }
   ],
   "source": [
    "assign_values_to_usernames(df)"
   ]
  },
  {
   "cell_type": "code",
   "execution_count": 28,
   "metadata": {},
   "outputs": [
    {
     "data": {
      "text/html": [
       "<div>\n",
       "<style scoped>\n",
       "    .dataframe tbody tr th:only-of-type {\n",
       "        vertical-align: middle;\n",
       "    }\n",
       "\n",
       "    .dataframe tbody tr th {\n",
       "        vertical-align: top;\n",
       "    }\n",
       "\n",
       "    .dataframe thead th {\n",
       "        text-align: right;\n",
       "    }\n",
       "</style>\n",
       "<table border=\"1\" class=\"dataframe\">\n",
       "  <thead>\n",
       "    <tr style=\"text-align: right;\">\n",
       "      <th></th>\n",
       "      <th>Username</th>\n",
       "      <th>Expired Date</th>\n",
       "    </tr>\n",
       "  </thead>\n",
       "  <tbody>\n",
       "    <tr>\n",
       "      <th>0</th>\n",
       "      <td>9f46KtgDF2</td>\n",
       "      <td>05/01/2024 10:10:44</td>\n",
       "    </tr>\n",
       "  </tbody>\n",
       "</table>\n",
       "</div>"
      ],
      "text/plain": [
       "     Username         Expired Date\n",
       "0  9f46KtgDF2  05/01/2024 10:10:44"
      ]
     },
     "execution_count": 28,
     "metadata": {},
     "output_type": "execute_result"
    }
   ],
   "source": [
    "df"
   ]
  },
  {
   "cell_type": "code",
   "execution_count": 15,
   "metadata": {},
   "outputs": [],
   "source": [
    "# Save the updated DataFrame to a CSV file\n",
    "df.to_csv('../files/fileResult.csv', index=False)"
   ]
  },
  {
   "cell_type": "code",
   "execution_count": 12,
   "metadata": {},
   "outputs": [],
   "source": [
    "input_file_path = '../files/logins.csv'"
   ]
  },
  {
   "cell_type": "code",
   "execution_count": 113,
   "metadata": {},
   "outputs": [
    {
     "name": "stdout",
     "output_type": "stream",
     "text": [
      "the df username is : 0    GarngTSByV\n",
      "1    WBHdcuPHjW\n",
      "2    PkA8Wg7fDY\n",
      "3    6A6v5VtPkS\n",
      "Name: username, dtype: object\n",
      "the username isss GarngTSByV\n",
      "Username is GarngTSByV and formatted expired date is 2024-07-14 23:46:32\n",
      "the username isss WBHdcuPHjW\n",
      "Username is WBHdcuPHjW and formatted expired date is 2024-01-11 20:33:01\n",
      "the username isss PkA8Wg7fDY\n",
      "Username is PkA8Wg7fDY and formatted expired date is 2024-01-11 20:32:03\n",
      "the username isss 6A6v5VtPkS\n",
      "Username is 6A6v5VtPkS and formatted expired date is 2024-01-11 20:31:01\n"
     ]
    }
   ],
   "source": [
    "\n",
    "\n",
    "# Assuming the first column is named 'username'\n",
    "usernames = df['username'][:4]\n",
    "print(f\"the df username is : {usernames}\")\n",
    "\n",
    "# Apply the custom treatment function to each username\n",
    "values = [process_username(username) for username in usernames]"
   ]
  },
  {
   "cell_type": "code",
   "execution_count": 107,
   "metadata": {},
   "outputs": [
    {
     "data": {
      "text/plain": [
       "['2024-07-14 23:46:32',\n",
       " '2024-01-11 20:33:01',\n",
       " '2024-01-11 20:32:03',\n",
       " '2024-01-11 20:31:01']"
      ]
     },
     "execution_count": 107,
     "metadata": {},
     "output_type": "execute_result"
    }
   ],
   "source": [
    "ormatted_dates_as_strings = [value.strftime(\"%Y-%m-%d %H:%M:%S\") if value is not None else None for value in values]\n",
    "ormatted_dates_as_strings"
   ]
  },
  {
   "cell_type": "code",
   "execution_count": 114,
   "metadata": {},
   "outputs": [],
   "source": [
    "# Create a new DataFrame with usernames and formatted dates\n",
    "new_df = pd.DataFrame({'username': usernames, 'valueee': values})\n",
    "\n",
    "# Merge the new DataFrame with the original DataFrame based on the 'username' column\n",
    "df = pd.merge(df, new_df, on='username', how='left')"
   ]
  },
  {
   "cell_type": "code",
   "execution_count": 116,
   "metadata": {},
   "outputs": [
    {
     "data": {
      "text/html": [
       "<div>\n",
       "<style scoped>\n",
       "    .dataframe tbody tr th:only-of-type {\n",
       "        vertical-align: middle;\n",
       "    }\n",
       "\n",
       "    .dataframe tbody tr th {\n",
       "        vertical-align: top;\n",
       "    }\n",
       "\n",
       "    .dataframe thead th {\n",
       "        text-align: right;\n",
       "    }\n",
       "</style>\n",
       "<table border=\"1\" class=\"dataframe\">\n",
       "  <thead>\n",
       "    <tr style=\"text-align: right;\">\n",
       "      <th></th>\n",
       "      <th>username</th>\n",
       "      <th>valueee</th>\n",
       "    </tr>\n",
       "  </thead>\n",
       "  <tbody>\n",
       "    <tr>\n",
       "      <th>0</th>\n",
       "      <td>GarngTSByV</td>\n",
       "      <td>2024-07-14 23:46:32</td>\n",
       "    </tr>\n",
       "    <tr>\n",
       "      <th>1</th>\n",
       "      <td>WBHdcuPHjW</td>\n",
       "      <td>2024-01-11 20:33:01</td>\n",
       "    </tr>\n",
       "    <tr>\n",
       "      <th>2</th>\n",
       "      <td>PkA8Wg7fDY</td>\n",
       "      <td>2024-01-11 20:32:03</td>\n",
       "    </tr>\n",
       "    <tr>\n",
       "      <th>3</th>\n",
       "      <td>6A6v5VtPkS</td>\n",
       "      <td>2024-01-11 20:31:01</td>\n",
       "    </tr>\n",
       "    <tr>\n",
       "      <th>4</th>\n",
       "      <td>djnaaeYjQs</td>\n",
       "      <td>NaT</td>\n",
       "    </tr>\n",
       "    <tr>\n",
       "      <th>...</th>\n",
       "      <td>...</td>\n",
       "      <td>...</td>\n",
       "    </tr>\n",
       "    <tr>\n",
       "      <th>716</th>\n",
       "      <td>djawh8hQ7G</td>\n",
       "      <td>NaT</td>\n",
       "    </tr>\n",
       "    <tr>\n",
       "      <th>717</th>\n",
       "      <td>Fn8vTujuCp</td>\n",
       "      <td>NaT</td>\n",
       "    </tr>\n",
       "    <tr>\n",
       "      <th>718</th>\n",
       "      <td>82T4VFKbRz</td>\n",
       "      <td>NaT</td>\n",
       "    </tr>\n",
       "    <tr>\n",
       "      <th>719</th>\n",
       "      <td>jw69Kny6Ra</td>\n",
       "      <td>NaT</td>\n",
       "    </tr>\n",
       "    <tr>\n",
       "      <th>720</th>\n",
       "      <td>CEEYugzvpc</td>\n",
       "      <td>NaT</td>\n",
       "    </tr>\n",
       "  </tbody>\n",
       "</table>\n",
       "<p>721 rows × 2 columns</p>\n",
       "</div>"
      ],
      "text/plain": [
       "       username             valueee\n",
       "0    GarngTSByV 2024-07-14 23:46:32\n",
       "1    WBHdcuPHjW 2024-01-11 20:33:01\n",
       "2    PkA8Wg7fDY 2024-01-11 20:32:03\n",
       "3    6A6v5VtPkS 2024-01-11 20:31:01\n",
       "4    djnaaeYjQs                 NaT\n",
       "..          ...                 ...\n",
       "716  djawh8hQ7G                 NaT\n",
       "717  Fn8vTujuCp                 NaT\n",
       "718  82T4VFKbRz                 NaT\n",
       "719  jw69Kny6Ra                 NaT\n",
       "720  CEEYugzvpc                 NaT\n",
       "\n",
       "[721 rows x 2 columns]"
      ]
     },
     "execution_count": 116,
     "metadata": {},
     "output_type": "execute_result"
    }
   ],
   "source": [
    "df"
   ]
  },
  {
   "cell_type": "code",
   "execution_count": 112,
   "metadata": {},
   "outputs": [],
   "source": [
    "# Example usage:\n",
    "input_file_path = '../files/logins.csv'\n",
    "output=\"../files/output.csv\"\n",
    "df.to_csv(output, index=False)"
   ]
  },
  {
   "cell_type": "code",
   "execution_count": 94,
   "metadata": {},
   "outputs": [
    {
     "name": "stdout",
     "output_type": "stream",
     "text": [
      "the df username is : ['GarngTSByV' 'WBHdcuPHjW' 'PkA8Wg7fDY' '6A6v5VtPkS']\n",
      "the username isss GarngTSByV\n",
      "username is GarngTSByV and expired date is 2024-07-14\n",
      "23:46:32\n",
      "the username isss WBHdcuPHjW\n",
      "username is WBHdcuPHjW and expired date is 2024-01-11\n",
      "20:33:01\n",
      "the username isss PkA8Wg7fDY\n",
      "username is PkA8Wg7fDY and expired date is 2024-01-11\n",
      "20:32:03\n",
      "the username isss 6A6v5VtPkS\n",
      "username is 6A6v5VtPkS and expired date is 2024-01-11\n",
      "20:31:01\n"
     ]
    },
    {
     "ename": "ValueError",
     "evalue": "Length of values (4) does not match length of index (721)",
     "output_type": "error",
     "traceback": [
      "\u001b[1;31m---------------------------------------------------------------------------\u001b[0m",
      "\u001b[1;31mValueError\u001b[0m                                Traceback (most recent call last)",
      "Cell \u001b[1;32mIn[94], line 4\u001b[0m\n\u001b[0;32m      2\u001b[0m input_file_path \u001b[38;5;241m=\u001b[39m \u001b[38;5;124m'\u001b[39m\u001b[38;5;124m../files/logins.csv\u001b[39m\u001b[38;5;124m'\u001b[39m\n\u001b[0;32m      3\u001b[0m output\u001b[38;5;241m=\u001b[39m\u001b[38;5;124m\"\u001b[39m\u001b[38;5;124m../files/output.csv\u001b[39m\u001b[38;5;124m\"\u001b[39m\n\u001b[1;32m----> 4\u001b[0m \u001b[43massign_values_to_usernames\u001b[49m\u001b[43m(\u001b[49m\u001b[43minput_file_path\u001b[49m\u001b[43m,\u001b[49m\u001b[43m \u001b[49m\u001b[43moutput\u001b[49m\u001b[43m)\u001b[49m\n",
      "Cell \u001b[1;32mIn[93], line 13\u001b[0m, in \u001b[0;36massign_values_to_usernames\u001b[1;34m(input_file, output_file)\u001b[0m\n\u001b[0;32m     10\u001b[0m values \u001b[38;5;241m=\u001b[39m [process_username(username) \u001b[38;5;28;01mfor\u001b[39;00m username \u001b[38;5;129;01min\u001b[39;00m usernames]\n\u001b[0;32m     12\u001b[0m \u001b[38;5;66;03m# Create a new column 'value' in the DataFrame and populate it with the assigned values\u001b[39;00m\n\u001b[1;32m---> 13\u001b[0m \u001b[43mdf\u001b[49m\u001b[43m[\u001b[49m\u001b[38;5;124;43m'\u001b[39;49m\u001b[38;5;124;43mvalue\u001b[39;49m\u001b[38;5;124;43m'\u001b[39;49m\u001b[43m]\u001b[49m \u001b[38;5;241m=\u001b[39m values\n\u001b[0;32m     14\u001b[0m df \u001b[38;5;241m=\u001b[39m df\u001b[38;5;241m.\u001b[39mhead(\u001b[38;5;241m4\u001b[39m)  \u001b[38;5;66;03m# Keep only the first 4 rows\u001b[39;00m\n\u001b[0;32m     15\u001b[0m \u001b[38;5;28mprint\u001b[39m(df)\n",
      "File \u001b[1;32m~\\AppData\\Roaming\\Python\\Python311\\site-packages\\pandas\\core\\frame.py:4094\u001b[0m, in \u001b[0;36mDataFrame.__setitem__\u001b[1;34m(self, key, value)\u001b[0m\n\u001b[0;32m   4091\u001b[0m     \u001b[38;5;28mself\u001b[39m\u001b[38;5;241m.\u001b[39m_setitem_array([key], value)\n\u001b[0;32m   4092\u001b[0m \u001b[38;5;28;01melse\u001b[39;00m:\n\u001b[0;32m   4093\u001b[0m     \u001b[38;5;66;03m# set column\u001b[39;00m\n\u001b[1;32m-> 4094\u001b[0m     \u001b[38;5;28;43mself\u001b[39;49m\u001b[38;5;241;43m.\u001b[39;49m\u001b[43m_set_item\u001b[49m\u001b[43m(\u001b[49m\u001b[43mkey\u001b[49m\u001b[43m,\u001b[49m\u001b[43m \u001b[49m\u001b[43mvalue\u001b[49m\u001b[43m)\u001b[49m\n",
      "File \u001b[1;32m~\\AppData\\Roaming\\Python\\Python311\\site-packages\\pandas\\core\\frame.py:4303\u001b[0m, in \u001b[0;36mDataFrame._set_item\u001b[1;34m(self, key, value)\u001b[0m\n\u001b[0;32m   4293\u001b[0m \u001b[38;5;28;01mdef\u001b[39;00m \u001b[38;5;21m_set_item\u001b[39m(\u001b[38;5;28mself\u001b[39m, key, value) \u001b[38;5;241m-\u001b[39m\u001b[38;5;241m>\u001b[39m \u001b[38;5;28;01mNone\u001b[39;00m:\n\u001b[0;32m   4294\u001b[0m \u001b[38;5;250m    \u001b[39m\u001b[38;5;124;03m\"\"\"\u001b[39;00m\n\u001b[0;32m   4295\u001b[0m \u001b[38;5;124;03m    Add series to DataFrame in specified column.\u001b[39;00m\n\u001b[0;32m   4296\u001b[0m \n\u001b[1;32m   (...)\u001b[0m\n\u001b[0;32m   4301\u001b[0m \u001b[38;5;124;03m    ensure homogeneity.\u001b[39;00m\n\u001b[0;32m   4302\u001b[0m \u001b[38;5;124;03m    \"\"\"\u001b[39;00m\n\u001b[1;32m-> 4303\u001b[0m     value, refs \u001b[38;5;241m=\u001b[39m \u001b[38;5;28;43mself\u001b[39;49m\u001b[38;5;241;43m.\u001b[39;49m\u001b[43m_sanitize_column\u001b[49m\u001b[43m(\u001b[49m\u001b[43mvalue\u001b[49m\u001b[43m)\u001b[49m\n\u001b[0;32m   4305\u001b[0m     \u001b[38;5;28;01mif\u001b[39;00m (\n\u001b[0;32m   4306\u001b[0m         key \u001b[38;5;129;01min\u001b[39;00m \u001b[38;5;28mself\u001b[39m\u001b[38;5;241m.\u001b[39mcolumns\n\u001b[0;32m   4307\u001b[0m         \u001b[38;5;129;01mand\u001b[39;00m value\u001b[38;5;241m.\u001b[39mndim \u001b[38;5;241m==\u001b[39m \u001b[38;5;241m1\u001b[39m\n\u001b[0;32m   4308\u001b[0m         \u001b[38;5;129;01mand\u001b[39;00m \u001b[38;5;129;01mnot\u001b[39;00m \u001b[38;5;28misinstance\u001b[39m(value\u001b[38;5;241m.\u001b[39mdtype, ExtensionDtype)\n\u001b[0;32m   4309\u001b[0m     ):\n\u001b[0;32m   4310\u001b[0m         \u001b[38;5;66;03m# broadcast across multiple columns if necessary\u001b[39;00m\n\u001b[0;32m   4311\u001b[0m         \u001b[38;5;28;01mif\u001b[39;00m \u001b[38;5;129;01mnot\u001b[39;00m \u001b[38;5;28mself\u001b[39m\u001b[38;5;241m.\u001b[39mcolumns\u001b[38;5;241m.\u001b[39mis_unique \u001b[38;5;129;01mor\u001b[39;00m \u001b[38;5;28misinstance\u001b[39m(\u001b[38;5;28mself\u001b[39m\u001b[38;5;241m.\u001b[39mcolumns, MultiIndex):\n",
      "File \u001b[1;32m~\\AppData\\Roaming\\Python\\Python311\\site-packages\\pandas\\core\\frame.py:5042\u001b[0m, in \u001b[0;36mDataFrame._sanitize_column\u001b[1;34m(self, value)\u001b[0m\n\u001b[0;32m   5039\u001b[0m     \u001b[38;5;28;01mreturn\u001b[39;00m _reindex_for_setitem(value, \u001b[38;5;28mself\u001b[39m\u001b[38;5;241m.\u001b[39mindex)\n\u001b[0;32m   5041\u001b[0m \u001b[38;5;28;01mif\u001b[39;00m is_list_like(value):\n\u001b[1;32m-> 5042\u001b[0m     \u001b[43mcom\u001b[49m\u001b[38;5;241;43m.\u001b[39;49m\u001b[43mrequire_length_match\u001b[49m\u001b[43m(\u001b[49m\u001b[43mvalue\u001b[49m\u001b[43m,\u001b[49m\u001b[43m \u001b[49m\u001b[38;5;28;43mself\u001b[39;49m\u001b[38;5;241;43m.\u001b[39;49m\u001b[43mindex\u001b[49m\u001b[43m)\u001b[49m\n\u001b[0;32m   5043\u001b[0m \u001b[38;5;28;01mreturn\u001b[39;00m sanitize_array(value, \u001b[38;5;28mself\u001b[39m\u001b[38;5;241m.\u001b[39mindex, copy\u001b[38;5;241m=\u001b[39m\u001b[38;5;28;01mTrue\u001b[39;00m, allow_2d\u001b[38;5;241m=\u001b[39m\u001b[38;5;28;01mTrue\u001b[39;00m), \u001b[38;5;28;01mNone\u001b[39;00m\n",
      "File \u001b[1;32m~\\AppData\\Roaming\\Python\\Python311\\site-packages\\pandas\\core\\common.py:561\u001b[0m, in \u001b[0;36mrequire_length_match\u001b[1;34m(data, index)\u001b[0m\n\u001b[0;32m    557\u001b[0m \u001b[38;5;250m\u001b[39m\u001b[38;5;124;03m\"\"\"\u001b[39;00m\n\u001b[0;32m    558\u001b[0m \u001b[38;5;124;03mCheck the length of data matches the length of the index.\u001b[39;00m\n\u001b[0;32m    559\u001b[0m \u001b[38;5;124;03m\"\"\"\u001b[39;00m\n\u001b[0;32m    560\u001b[0m \u001b[38;5;28;01mif\u001b[39;00m \u001b[38;5;28mlen\u001b[39m(data) \u001b[38;5;241m!=\u001b[39m \u001b[38;5;28mlen\u001b[39m(index):\n\u001b[1;32m--> 561\u001b[0m     \u001b[38;5;28;01mraise\u001b[39;00m \u001b[38;5;167;01mValueError\u001b[39;00m(\n\u001b[0;32m    562\u001b[0m         \u001b[38;5;124m\"\u001b[39m\u001b[38;5;124mLength of values \u001b[39m\u001b[38;5;124m\"\u001b[39m\n\u001b[0;32m    563\u001b[0m         \u001b[38;5;124mf\u001b[39m\u001b[38;5;124m\"\u001b[39m\u001b[38;5;124m(\u001b[39m\u001b[38;5;132;01m{\u001b[39;00m\u001b[38;5;28mlen\u001b[39m(data)\u001b[38;5;132;01m}\u001b[39;00m\u001b[38;5;124m) \u001b[39m\u001b[38;5;124m\"\u001b[39m\n\u001b[0;32m    564\u001b[0m         \u001b[38;5;124m\"\u001b[39m\u001b[38;5;124mdoes not match length of index \u001b[39m\u001b[38;5;124m\"\u001b[39m\n\u001b[0;32m    565\u001b[0m         \u001b[38;5;124mf\u001b[39m\u001b[38;5;124m\"\u001b[39m\u001b[38;5;124m(\u001b[39m\u001b[38;5;132;01m{\u001b[39;00m\u001b[38;5;28mlen\u001b[39m(index)\u001b[38;5;132;01m}\u001b[39;00m\u001b[38;5;124m)\u001b[39m\u001b[38;5;124m\"\u001b[39m\n\u001b[0;32m    566\u001b[0m     )\n",
      "\u001b[1;31mValueError\u001b[0m: Length of values (4) does not match length of index (721)"
     ]
    }
   ],
   "source": [
    "# Example usage:\n",
    "input_file_path = '../files/logins.csv'\n",
    "output=\"../files/output.csv\"\n",
    "assign_values_to_usernames(input_file_path, output)"
   ]
  },
  {
   "cell_type": "code",
   "execution_count": 12,
   "metadata": {},
   "outputs": [
    {
     "ename": "StaleElementReferenceException",
     "evalue": "Message: The element with the reference 712306cb-d17e-497a-9e48-6468bf9f8189 is stale; either its node document is not the active document, or it is no longer connected to the DOM; For documentation on this error, please visit: https://www.selenium.dev/documentation/webdriver/troubleshooting/errors#stale-element-reference-exception\nStacktrace:\nRemoteError@chrome://remote/content/shared/RemoteError.sys.mjs:8:8\nWebDriverError@chrome://remote/content/shared/webdriver/Errors.sys.mjs:189:5\nStaleElementReferenceError@chrome://remote/content/shared/webdriver/Errors.sys.mjs:676:5\ngetKnownElement@chrome://remote/content/marionette/json.sys.mjs:401:11\ndeserializeJSON@chrome://remote/content/marionette/json.sys.mjs:259:20\ncloneObject@chrome://remote/content/marionette/json.sys.mjs:59:24\ndeserializeJSON@chrome://remote/content/marionette/json.sys.mjs:289:16\njson.deserialize@chrome://remote/content/marionette/json.sys.mjs:293:10\nreceiveMessage@chrome://remote/content/marionette/actors/MarionetteCommandsChild.sys.mjs:72:30\n",
     "output_type": "error",
     "traceback": [
      "\u001b[1;31m---------------------------------------------------------------------------\u001b[0m",
      "\u001b[1;31mStaleElementReferenceException\u001b[0m            Traceback (most recent call last)",
      "Cell \u001b[1;32mIn[12], line 2\u001b[0m\n\u001b[0;32m      1\u001b[0m \u001b[38;5;66;03m#line?id=1426928\u001b[39;00m\n\u001b[1;32m----> 2\u001b[0m driver\u001b[38;5;241m.\u001b[39mget(\u001b[38;5;124m\"\u001b[39m\u001b[38;5;124mhttp://ky-iptv.com/HckqYJZU/line?id=\u001b[39m\u001b[38;5;124m\"\u001b[39m\u001b[38;5;241m+\u001b[39m\u001b[38;5;28;43mid\u001b[39;49m\u001b[38;5;241;43m.\u001b[39;49m\u001b[43mtext\u001b[49m)\n",
      "File \u001b[1;32m~\\AppData\\Roaming\\Python\\Python311\\site-packages\\selenium\\webdriver\\remote\\webelement.py:89\u001b[0m, in \u001b[0;36mWebElement.text\u001b[1;34m(self)\u001b[0m\n\u001b[0;32m     86\u001b[0m \u001b[38;5;129m@property\u001b[39m\n\u001b[0;32m     87\u001b[0m \u001b[38;5;28;01mdef\u001b[39;00m \u001b[38;5;21mtext\u001b[39m(\u001b[38;5;28mself\u001b[39m) \u001b[38;5;241m-\u001b[39m\u001b[38;5;241m>\u001b[39m \u001b[38;5;28mstr\u001b[39m:\n\u001b[0;32m     88\u001b[0m \u001b[38;5;250m    \u001b[39m\u001b[38;5;124;03m\"\"\"The text of the element.\"\"\"\u001b[39;00m\n\u001b[1;32m---> 89\u001b[0m     \u001b[38;5;28;01mreturn\u001b[39;00m \u001b[38;5;28;43mself\u001b[39;49m\u001b[38;5;241;43m.\u001b[39;49m\u001b[43m_execute\u001b[49m\u001b[43m(\u001b[49m\u001b[43mCommand\u001b[49m\u001b[38;5;241;43m.\u001b[39;49m\u001b[43mGET_ELEMENT_TEXT\u001b[49m\u001b[43m)\u001b[49m[\u001b[38;5;124m\"\u001b[39m\u001b[38;5;124mvalue\u001b[39m\u001b[38;5;124m\"\u001b[39m]\n",
      "File \u001b[1;32m~\\AppData\\Roaming\\Python\\Python311\\site-packages\\selenium\\webdriver\\remote\\webelement.py:394\u001b[0m, in \u001b[0;36mWebElement._execute\u001b[1;34m(self, command, params)\u001b[0m\n\u001b[0;32m    392\u001b[0m     params \u001b[38;5;241m=\u001b[39m {}\n\u001b[0;32m    393\u001b[0m params[\u001b[38;5;124m\"\u001b[39m\u001b[38;5;124mid\u001b[39m\u001b[38;5;124m\"\u001b[39m] \u001b[38;5;241m=\u001b[39m \u001b[38;5;28mself\u001b[39m\u001b[38;5;241m.\u001b[39m_id\n\u001b[1;32m--> 394\u001b[0m \u001b[38;5;28;01mreturn\u001b[39;00m \u001b[38;5;28;43mself\u001b[39;49m\u001b[38;5;241;43m.\u001b[39;49m\u001b[43m_parent\u001b[49m\u001b[38;5;241;43m.\u001b[39;49m\u001b[43mexecute\u001b[49m\u001b[43m(\u001b[49m\u001b[43mcommand\u001b[49m\u001b[43m,\u001b[49m\u001b[43m \u001b[49m\u001b[43mparams\u001b[49m\u001b[43m)\u001b[49m\n",
      "File \u001b[1;32m~\\AppData\\Roaming\\Python\\Python311\\site-packages\\selenium\\webdriver\\remote\\webdriver.py:344\u001b[0m, in \u001b[0;36mWebDriver.execute\u001b[1;34m(self, driver_command, params)\u001b[0m\n\u001b[0;32m    342\u001b[0m response \u001b[38;5;241m=\u001b[39m \u001b[38;5;28mself\u001b[39m\u001b[38;5;241m.\u001b[39mcommand_executor\u001b[38;5;241m.\u001b[39mexecute(driver_command, params)\n\u001b[0;32m    343\u001b[0m \u001b[38;5;28;01mif\u001b[39;00m response:\n\u001b[1;32m--> 344\u001b[0m     \u001b[38;5;28;43mself\u001b[39;49m\u001b[38;5;241;43m.\u001b[39;49m\u001b[43merror_handler\u001b[49m\u001b[38;5;241;43m.\u001b[39;49m\u001b[43mcheck_response\u001b[49m\u001b[43m(\u001b[49m\u001b[43mresponse\u001b[49m\u001b[43m)\u001b[49m\n\u001b[0;32m    345\u001b[0m     response[\u001b[38;5;124m\"\u001b[39m\u001b[38;5;124mvalue\u001b[39m\u001b[38;5;124m\"\u001b[39m] \u001b[38;5;241m=\u001b[39m \u001b[38;5;28mself\u001b[39m\u001b[38;5;241m.\u001b[39m_unwrap_value(response\u001b[38;5;241m.\u001b[39mget(\u001b[38;5;124m\"\u001b[39m\u001b[38;5;124mvalue\u001b[39m\u001b[38;5;124m\"\u001b[39m, \u001b[38;5;28;01mNone\u001b[39;00m))\n\u001b[0;32m    346\u001b[0m     \u001b[38;5;28;01mreturn\u001b[39;00m response\n",
      "File \u001b[1;32m~\\AppData\\Roaming\\Python\\Python311\\site-packages\\selenium\\webdriver\\remote\\errorhandler.py:229\u001b[0m, in \u001b[0;36mErrorHandler.check_response\u001b[1;34m(self, response)\u001b[0m\n\u001b[0;32m    227\u001b[0m         alert_text \u001b[38;5;241m=\u001b[39m value[\u001b[38;5;124m\"\u001b[39m\u001b[38;5;124malert\u001b[39m\u001b[38;5;124m\"\u001b[39m]\u001b[38;5;241m.\u001b[39mget(\u001b[38;5;124m\"\u001b[39m\u001b[38;5;124mtext\u001b[39m\u001b[38;5;124m\"\u001b[39m)\n\u001b[0;32m    228\u001b[0m     \u001b[38;5;28;01mraise\u001b[39;00m exception_class(message, screen, stacktrace, alert_text)  \u001b[38;5;66;03m# type: ignore[call-arg]  # mypy is not smart enough here\u001b[39;00m\n\u001b[1;32m--> 229\u001b[0m \u001b[38;5;28;01mraise\u001b[39;00m exception_class(message, screen, stacktrace)\n",
      "\u001b[1;31mStaleElementReferenceException\u001b[0m: Message: The element with the reference 712306cb-d17e-497a-9e48-6468bf9f8189 is stale; either its node document is not the active document, or it is no longer connected to the DOM; For documentation on this error, please visit: https://www.selenium.dev/documentation/webdriver/troubleshooting/errors#stale-element-reference-exception\nStacktrace:\nRemoteError@chrome://remote/content/shared/RemoteError.sys.mjs:8:8\nWebDriverError@chrome://remote/content/shared/webdriver/Errors.sys.mjs:189:5\nStaleElementReferenceError@chrome://remote/content/shared/webdriver/Errors.sys.mjs:676:5\ngetKnownElement@chrome://remote/content/marionette/json.sys.mjs:401:11\ndeserializeJSON@chrome://remote/content/marionette/json.sys.mjs:259:20\ncloneObject@chrome://remote/content/marionette/json.sys.mjs:59:24\ndeserializeJSON@chrome://remote/content/marionette/json.sys.mjs:289:16\njson.deserialize@chrome://remote/content/marionette/json.sys.mjs:293:10\nreceiveMessage@chrome://remote/content/marionette/actors/MarionetteCommandsChild.sys.mjs:72:30\n"
     ]
    }
   ],
   "source": [
    "#line?id=1426928\n",
    "driver.get(\"http://ky-iptv.com/HckqYJZU/line?id=\"+id.text)"
   ]
  },
  {
   "cell_type": "code",
   "execution_count": 13,
   "metadata": {},
   "outputs": [],
   "source": [
    "next_button = driver.find_element(By.XPATH, \"//a[@href='javascript: void(0);']\")\n",
    "next_button.click()"
   ]
  },
  {
   "cell_type": "code",
   "execution_count": 16,
   "metadata": {},
   "outputs": [],
   "source": [
    "element = driver.find_element(By.XPATH, '//a[@href=\"#review-purchase\" and @data-toggle=\"tab\"]')\n",
    "\n",
    "# Click on the element\n",
    "element.click()"
   ]
  },
  {
   "cell_type": "code",
   "execution_count": 17,
   "metadata": {},
   "outputs": [
    {
     "name": "stdout",
     "output_type": "stream",
     "text": [
      "id: 1426928 username : GZdDjqPrxb and  password : 68PtVftXQy\n"
     ]
    }
   ],
   "source": [
    "# Navigate to the lines page\n",
    "def function(clientUsername,driver):\n",
    "                driver.get(\"http://ky-iptv.com/HckqYJZU/lines\")\n",
    "                time.sleep(8)\n",
    "                # Use a CSS selector to locate the button by the onclick attribute\n",
    "                # Find the input element by id\n",
    "                input_element = driver.find_element(By.ID, \"user_search\")\n",
    "\n",
    "                # Clear the existing value\n",
    "                input_element.clear()\n",
    "                # Input the value \"GZdDjqPrxb\"\n",
    "                input_element.send_keys(clientUsername)\n",
    "\n",
    "                # Optionally, you can press the Tab key to move to the next element\n",
    "                input_element.send_keys(Keys.TAB)\n",
    "                time.sleep(5)\n",
    "\n",
    "            \n",
    "            # Locate the last <tr> element within the <tbody> of the <table>\n",
    "                result_dict=None\n",
    "\n",
    "                # Locate the last <tr> element within the <tbody> of the <table>\n",
    "                last_tr = driver.find_element(By.XPATH, \"//table/tbody/tr[1]\")\n",
    "                if not last_tr.text.strip() == \"No data available in table\":\n",
    "\n",
    "                    # Locate the first <td> element within the last <tr>\n",
    "                    id = last_tr.find_element(By.XPATH, \".//td[1]\")\n",
    "                    username = last_tr.find_element(By.XPATH, \".//td[2]\")\n",
    "                    password = last_tr.find_element(By.XPATH, \".//td[3]\")\n",
    "\n",
    "                    print(f\"id: {id.text} username : {username.text} and  password : {password.text}\")\n",
    "                    time.sleep(5)\n",
    "            # Use a CSS selector to locate the button by the onclick attribute\n",
    "                button = driver.find_element(By.CSS_SELECTOR, \"[onclick*=\\\"download('\"+username.text+\"', '\"+password.text+\"');\\\"]\")\n",
    "\n",
    "                # Click the button\n",
    "                button.click()\n",
    "\n",
    "function('GZdDjqPrxb',driver)"
   ]
  },
  {
   "cell_type": "code",
   "execution_count": 16,
   "metadata": {},
   "outputs": [],
   "source": [
    "from datetime import datetime"
   ]
  },
  {
   "cell_type": "code",
   "execution_count": 18,
   "metadata": {},
   "outputs": [
    {
     "name": "stdout",
     "output_type": "stream",
     "text": [
      "Is Expired: True\n"
     ]
    }
   ],
   "source": [
    "from datetime import datetime\n",
    "\n",
    "# Find the input element by id\n",
    "expDate = driver.find_element(By.ID, \"exp_date\")\n",
    "\n",
    "# Get the current value attribute\n",
    "expDateValue = expDate.get_attribute(\"value\")\n",
    "\n",
    "# Convert the date string to a datetime object\n",
    "expDateDatetime = datetime.strptime(expDateValue, \"%Y-%m-%d %H:%M\")  # Adjust the format based on your date input\n",
    "\n",
    "# Get the current date\n",
    "currentDate = datetime.now()\n",
    "\n",
    "# Compare the dates\n",
    "isExpired = expDateDatetime < currentDate\n",
    "\n",
    "# Print the result\n",
    "print(\"Is Expired:\", isExpired)\n"
   ]
  },
  {
   "cell_type": "code",
   "execution_count": 27,
   "metadata": {},
   "outputs": [],
   "source": [
    "# Find the input element by id\n",
    "input_element = driver.find_element(By.ID, \"username\")\n",
    "\n",
    "# Get the current value attribute\n",
    "current_value = input_element.get_attribute(\"value\")\n",
    "\n",
    "# Check if the current value is empty (or any other condition)\n",
    "if not current_value:\n",
    "    # Set the default value \"GZdDjqPrxb\"\n",
    "    input_element.send_keys(username.text)\n"
   ]
  },
  {
   "cell_type": "code",
   "execution_count": null,
   "metadata": {},
   "outputs": [],
   "source": [
    "# Find the input element by id\n",
    "input_element = driver.find_element(By.ID, \"password\")\n",
    "\n",
    "# Get the current value attribute\n",
    "current_value = input_element.get_attribute(\"value\")\n",
    "\n",
    "# Check if the current value is empty (or any other condition)\n",
    "if not current_value:\n",
    "    # Set the default value \"GZdDjqPrxb\"\n",
    "    input_element.send_keys(password.text)"
   ]
  },
  {
   "cell_type": "code",
   "execution_count": 25,
   "metadata": {},
   "outputs": [
    {
     "ename": "StaleElementReferenceException",
     "evalue": "Message: The element with the reference 850da8f3-5e2b-4246-8728-569c5daa36c6 is stale; either its node document is not the active document, or it is no longer connected to the DOM; For documentation on this error, please visit: https://www.selenium.dev/documentation/webdriver/troubleshooting/errors#stale-element-reference-exception\nStacktrace:\nRemoteError@chrome://remote/content/shared/RemoteError.sys.mjs:8:8\nWebDriverError@chrome://remote/content/shared/webdriver/Errors.sys.mjs:189:5\nStaleElementReferenceError@chrome://remote/content/shared/webdriver/Errors.sys.mjs:676:5\ngetKnownElement@chrome://remote/content/marionette/json.sys.mjs:401:11\ndeserializeJSON@chrome://remote/content/marionette/json.sys.mjs:259:20\ncloneObject@chrome://remote/content/marionette/json.sys.mjs:59:24\ndeserializeJSON@chrome://remote/content/marionette/json.sys.mjs:289:16\njson.deserialize@chrome://remote/content/marionette/json.sys.mjs:293:10\nreceiveMessage@chrome://remote/content/marionette/actors/MarionetteCommandsChild.sys.mjs:72:30\n",
     "output_type": "error",
     "traceback": [
      "\u001b[1;31m---------------------------------------------------------------------------\u001b[0m",
      "\u001b[1;31mStaleElementReferenceException\u001b[0m            Traceback (most recent call last)",
      "Cell \u001b[1;32mIn[25], line 10\u001b[0m\n\u001b[0;32m      7\u001b[0m input_element \u001b[38;5;241m=\u001b[39m driver\u001b[38;5;241m.\u001b[39mfind_element(By\u001b[38;5;241m.\u001b[39mID, \u001b[38;5;124m\"\u001b[39m\u001b[38;5;124musername\u001b[39m\u001b[38;5;124m\"\u001b[39m)\n\u001b[0;32m      9\u001b[0m \u001b[38;5;66;03m# Input the value \"GZdDjqPrxb\"\u001b[39;00m\n\u001b[1;32m---> 10\u001b[0m input_element\u001b[38;5;241m.\u001b[39msend_keys(\u001b[43musername\u001b[49m\u001b[38;5;241;43m.\u001b[39;49m\u001b[43mtext\u001b[49m)\n",
      "File \u001b[1;32m~\\AppData\\Roaming\\Python\\Python311\\site-packages\\selenium\\webdriver\\remote\\webelement.py:89\u001b[0m, in \u001b[0;36mWebElement.text\u001b[1;34m(self)\u001b[0m\n\u001b[0;32m     86\u001b[0m \u001b[38;5;129m@property\u001b[39m\n\u001b[0;32m     87\u001b[0m \u001b[38;5;28;01mdef\u001b[39;00m \u001b[38;5;21mtext\u001b[39m(\u001b[38;5;28mself\u001b[39m) \u001b[38;5;241m-\u001b[39m\u001b[38;5;241m>\u001b[39m \u001b[38;5;28mstr\u001b[39m:\n\u001b[0;32m     88\u001b[0m \u001b[38;5;250m    \u001b[39m\u001b[38;5;124;03m\"\"\"The text of the element.\"\"\"\u001b[39;00m\n\u001b[1;32m---> 89\u001b[0m     \u001b[38;5;28;01mreturn\u001b[39;00m \u001b[38;5;28;43mself\u001b[39;49m\u001b[38;5;241;43m.\u001b[39;49m\u001b[43m_execute\u001b[49m\u001b[43m(\u001b[49m\u001b[43mCommand\u001b[49m\u001b[38;5;241;43m.\u001b[39;49m\u001b[43mGET_ELEMENT_TEXT\u001b[49m\u001b[43m)\u001b[49m[\u001b[38;5;124m\"\u001b[39m\u001b[38;5;124mvalue\u001b[39m\u001b[38;5;124m\"\u001b[39m]\n",
      "File \u001b[1;32m~\\AppData\\Roaming\\Python\\Python311\\site-packages\\selenium\\webdriver\\remote\\webelement.py:394\u001b[0m, in \u001b[0;36mWebElement._execute\u001b[1;34m(self, command, params)\u001b[0m\n\u001b[0;32m    392\u001b[0m     params \u001b[38;5;241m=\u001b[39m {}\n\u001b[0;32m    393\u001b[0m params[\u001b[38;5;124m\"\u001b[39m\u001b[38;5;124mid\u001b[39m\u001b[38;5;124m\"\u001b[39m] \u001b[38;5;241m=\u001b[39m \u001b[38;5;28mself\u001b[39m\u001b[38;5;241m.\u001b[39m_id\n\u001b[1;32m--> 394\u001b[0m \u001b[38;5;28;01mreturn\u001b[39;00m \u001b[38;5;28;43mself\u001b[39;49m\u001b[38;5;241;43m.\u001b[39;49m\u001b[43m_parent\u001b[49m\u001b[38;5;241;43m.\u001b[39;49m\u001b[43mexecute\u001b[49m\u001b[43m(\u001b[49m\u001b[43mcommand\u001b[49m\u001b[43m,\u001b[49m\u001b[43m \u001b[49m\u001b[43mparams\u001b[49m\u001b[43m)\u001b[49m\n",
      "File \u001b[1;32m~\\AppData\\Roaming\\Python\\Python311\\site-packages\\selenium\\webdriver\\remote\\webdriver.py:344\u001b[0m, in \u001b[0;36mWebDriver.execute\u001b[1;34m(self, driver_command, params)\u001b[0m\n\u001b[0;32m    342\u001b[0m response \u001b[38;5;241m=\u001b[39m \u001b[38;5;28mself\u001b[39m\u001b[38;5;241m.\u001b[39mcommand_executor\u001b[38;5;241m.\u001b[39mexecute(driver_command, params)\n\u001b[0;32m    343\u001b[0m \u001b[38;5;28;01mif\u001b[39;00m response:\n\u001b[1;32m--> 344\u001b[0m     \u001b[38;5;28;43mself\u001b[39;49m\u001b[38;5;241;43m.\u001b[39;49m\u001b[43merror_handler\u001b[49m\u001b[38;5;241;43m.\u001b[39;49m\u001b[43mcheck_response\u001b[49m\u001b[43m(\u001b[49m\u001b[43mresponse\u001b[49m\u001b[43m)\u001b[49m\n\u001b[0;32m    345\u001b[0m     response[\u001b[38;5;124m\"\u001b[39m\u001b[38;5;124mvalue\u001b[39m\u001b[38;5;124m\"\u001b[39m] \u001b[38;5;241m=\u001b[39m \u001b[38;5;28mself\u001b[39m\u001b[38;5;241m.\u001b[39m_unwrap_value(response\u001b[38;5;241m.\u001b[39mget(\u001b[38;5;124m\"\u001b[39m\u001b[38;5;124mvalue\u001b[39m\u001b[38;5;124m\"\u001b[39m, \u001b[38;5;28;01mNone\u001b[39;00m))\n\u001b[0;32m    346\u001b[0m     \u001b[38;5;28;01mreturn\u001b[39;00m response\n",
      "File \u001b[1;32m~\\AppData\\Roaming\\Python\\Python311\\site-packages\\selenium\\webdriver\\remote\\errorhandler.py:229\u001b[0m, in \u001b[0;36mErrorHandler.check_response\u001b[1;34m(self, response)\u001b[0m\n\u001b[0;32m    227\u001b[0m         alert_text \u001b[38;5;241m=\u001b[39m value[\u001b[38;5;124m\"\u001b[39m\u001b[38;5;124malert\u001b[39m\u001b[38;5;124m\"\u001b[39m]\u001b[38;5;241m.\u001b[39mget(\u001b[38;5;124m\"\u001b[39m\u001b[38;5;124mtext\u001b[39m\u001b[38;5;124m\"\u001b[39m)\n\u001b[0;32m    228\u001b[0m     \u001b[38;5;28;01mraise\u001b[39;00m exception_class(message, screen, stacktrace, alert_text)  \u001b[38;5;66;03m# type: ignore[call-arg]  # mypy is not smart enough here\u001b[39;00m\n\u001b[1;32m--> 229\u001b[0m \u001b[38;5;28;01mraise\u001b[39;00m exception_class(message, screen, stacktrace)\n",
      "\u001b[1;31mStaleElementReferenceException\u001b[0m: Message: The element with the reference 850da8f3-5e2b-4246-8728-569c5daa36c6 is stale; either its node document is not the active document, or it is no longer connected to the DOM; For documentation on this error, please visit: https://www.selenium.dev/documentation/webdriver/troubleshooting/errors#stale-element-reference-exception\nStacktrace:\nRemoteError@chrome://remote/content/shared/RemoteError.sys.mjs:8:8\nWebDriverError@chrome://remote/content/shared/webdriver/Errors.sys.mjs:189:5\nStaleElementReferenceError@chrome://remote/content/shared/webdriver/Errors.sys.mjs:676:5\ngetKnownElement@chrome://remote/content/marionette/json.sys.mjs:401:11\ndeserializeJSON@chrome://remote/content/marionette/json.sys.mjs:259:20\ncloneObject@chrome://remote/content/marionette/json.sys.mjs:59:24\ndeserializeJSON@chrome://remote/content/marionette/json.sys.mjs:289:16\njson.deserialize@chrome://remote/content/marionette/json.sys.mjs:293:10\nreceiveMessage@chrome://remote/content/marionette/actors/MarionetteCommandsChild.sys.mjs:72:30\n"
     ]
    }
   ],
   "source": [
    "# Find the input element by id\n",
    "input_element = driver.find_element(By.ID, \"username\")\n",
    "\n",
    "# Clear the existing value\n",
    "input_element.clear()\n",
    "# Re-find the element after clearing\n",
    "input_element = driver.find_element(By.ID, \"username\")\n",
    "\n",
    "# Input the value \"GZdDjqPrxb\"\n",
    "input_element.send_keys(username.text)"
   ]
  },
  {
   "cell_type": "code",
   "execution_count": 46,
   "metadata": {},
   "outputs": [],
   "source": [
    "from selenium.webdriver.common.by import By\n",
    "\n",
    "def select_option_by_text(driver, select_id, option_text):\n",
    "    try:\n",
    "        #option_text = \"Paid Trial\"\n",
    "\n",
    "        # Re-locate the select element to avoid StaleElementReferenceException\n",
    "        package = driver.find_element(By.ID, select_id)\n",
    "\n",
    "        # Execute JavaScript to select the option by text\n",
    "        driver.execute_script(f'''\n",
    "            var select = arguments[0];\n",
    "            var optionText = \"{option_text}\";\n",
    "\n",
    "            for (var i = 0; i < select.options.length; i++) {{\n",
    "                if (select.options[i].text===optionText) {{\n",
    "                    select.selectedIndex = i;\n",
    "                    select.dispatchEvent(new Event('change'));\n",
    "                    return true;\n",
    "                }}\n",
    "            }}\n",
    "            return false\n",
    "        ''', package)\n",
    "    except Exception as e:\n",
    "        # Handle exceptions if needed\n",
    "        return False\n"
   ]
  },
  {
   "cell_type": "code",
   "execution_count": 47,
   "metadata": {},
   "outputs": [],
   "source": [
    "select_option_by_text(driver, 'package', \"6 Months + 1 connections\")"
   ]
  },
  {
   "cell_type": "code",
   "execution_count": 56,
   "metadata": {},
   "outputs": [
    {
     "data": {
      "text/plain": [
       "False"
      ]
     },
     "execution_count": 56,
     "metadata": {},
     "output_type": "execute_result"
    }
   ],
   "source": [
    "# Find the select element\n",
    "package = driver.find_element(By.ID, 'package')\n",
    "\n",
    "# Define the option text you want to select\n",
    "option_text = \"6 Months + 1 connections\"\n",
    "\n",
    "# Re-locate the select element to avoid StaleElementReferenceException\n",
    "package = driver.find_element(By.ID, 'package')\n",
    "\n",
    "# Execute JavaScript to select the option by text\n",
    "driver.execute_script(f'''\n",
    "    var select = arguments[0];\n",
    "    var optionText = \"{option_text}\";\n",
    "\n",
    "    for (var i = 0; i < select.options.length; i++) {{\n",
    "        if (select.options[i].text===optionText) {{\n",
    "            select.selectedIndex = i;\n",
    "            select.dispatchEvent(new Event('change'));\n",
    "            return true;\n",
    "        }}\n",
    "    }}\n",
    "    return false\n",
    "''', package)"
   ]
  },
  {
   "cell_type": "code",
   "execution_count": 59,
   "metadata": {},
   "outputs": [
    {
     "name": "stdout",
     "output_type": "stream",
     "text": [
      "Title attribute value: 12 Months + 1 connection (Without Adults)\n"
     ]
    }
   ],
   "source": [
    "span_element = driver.find_element(By.ID,\"select2-package-container\")\n",
    "\n",
    "# Get the value of the title attribute\n",
    "title_value = span_element.get_attribute(\"title\")\n",
    "\n",
    "# Print or use the title value as needed\n",
    "print(\"Title attribute value:\", title_value)"
   ]
  },
  {
   "cell_type": "code",
   "execution_count": 68,
   "metadata": {},
   "outputs": [],
   "source": [
    "def edit_package(value):    \n",
    "    span_element = driver.find_element(By.ID, \"select2-package-container\")\n",
    "\n",
    "    # Set the innerHTML and title attribute to \"12 Months + 1 connection (Without Adults)\"\n",
    "    #value = \"12 Months + 1 connection\"\n",
    "    driver.execute_script(\"arguments[0].innerHTML = '\" + value + \"'; arguments[0].setAttribute('title', '\" + value + \"');\", span_element)\n",
    "\n",
    "    # Verify the updated content and title attribute\n",
    "    updated_content = span_element.get_attribute(\"innerHTML\")\n",
    "    updated_title = span_element.get_attribute(\"title\")\n",
    "\n",
    "    print(\"Updated Content:\", updated_content)\n",
    "    print(\"Updated Title attribute value:\", updated_title)"
   ]
  },
  {
   "cell_type": "code",
   "execution_count": 69,
   "metadata": {},
   "outputs": [
    {
     "name": "stdout",
     "output_type": "stream",
     "text": [
      "Updated Content: 12 Months + 1 connection\n",
      "Updated Title attribute value: 12 Months + 1 connection\n"
     ]
    }
   ],
   "source": [
    "edit_package(\"12 Months + 1 connection\")"
   ]
  },
  {
   "cell_type": "code",
   "execution_count": 34,
   "metadata": {},
   "outputs": [],
   "source": [
    "userEmail=\"mahfoud.chdaoui@gmail.com\"\n",
    "# Find the input element by id\n",
    "input_element = driver.find_element(By.ID, \"contact\")\n",
    "\n",
    "# Clear the existing value\n",
    "input_element.clear()\n",
    "# Input the value \"GZdDjqPrxb\"\n",
    "input_element.send_keys(userEmail)\n"
   ]
  },
  {
   "cell_type": "code",
   "execution_count": 70,
   "metadata": {},
   "outputs": [],
   "source": [
    "def select_option_by_text(driver, select_id, option_text):\n",
    "    try:\n",
    "        # Locate the <select> element\n",
    "        select_element = driver.find_element(By.ID, select_id)\n",
    "\n",
    "        # Execute JavaScript to select the option by text\n",
    "        # Execute JavaScript to select the option by text\n",
    "        bools = driver.execute_script(f'''\n",
    "            var select = arguments[0];\n",
    "            var optionText = \"{option_text}\";\n",
    "            var bools = false;\n",
    "\n",
    "            for (var i = 0; i < select.options.length; i++) {{\n",
    "                if (select.options[i].text === optionText) {{\n",
    "                    select.selectedIndex = i;\n",
    "                    select.dispatchEvent(new Event('change'));\n",
    "                    bools = true;\n",
    "                    return bools;\n",
    "                }}\n",
    "            }}\n",
    "            return bools;\n",
    "        ''', select_element)\n",
    "\n",
    "        return bools\n",
    "    except Exception as e:\n",
    "        return False"
   ]
  },
  {
   "cell_type": "code",
   "execution_count": 72,
   "metadata": {},
   "outputs": [
    {
     "data": {
      "text/plain": [
       "True"
      ]
     },
     "execution_count": 72,
     "metadata": {},
     "output_type": "execute_result"
    }
   ],
   "source": [
    "select_option_by_text(driver, 'package', \"6 Months + 1 connection (Without Adults)\")"
   ]
  }
 ],
 "metadata": {
  "kernelspec": {
   "display_name": "Python 3",
   "language": "python",
   "name": "python3"
  },
  "language_info": {
   "codemirror_mode": {
    "name": "ipython",
    "version": 3
   },
   "file_extension": ".py",
   "mimetype": "text/x-python",
   "name": "python",
   "nbconvert_exporter": "python",
   "pygments_lexer": "ipython3",
   "version": "3.11.5"
  }
 },
 "nbformat": 4,
 "nbformat_minor": 2
}
